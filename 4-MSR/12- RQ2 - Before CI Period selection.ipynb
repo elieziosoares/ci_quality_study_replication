{
 "cells": [
  {
   "cell_type": "markdown",
   "metadata": {},
   "source": [
    "## Identify CI projects with a pre-period available to analyze\n",
    "- 12 Months before CI (analysis point).\n",
    "- Get activity\n",
    "- Flag rq2 in table Projects\n",
    "- Record rq2_analysis_init and rq2_analysis_finish\n",
    "\n",
    "### !!! After that execute scripts on Notebook 11 to fill metrics_period table with this period before CI"
   ]
  },
  {
   "cell_type": "code",
   "execution_count": 53,
   "metadata": {
    "ExecuteTime": {
     "end_time": "2022-01-13T15:28:29.347991Z",
     "start_time": "2022-01-13T15:28:15.293124Z"
    }
   },
   "outputs": [
    {
     "name": "stdout",
     "output_type": "stream",
     "text": [
      "++++++++++++++++ Months: 12  -  PRs: 146  -  Issues: 0  -  Project: ethereum/mist - Init: 2015-07-13 12:13:55-03:00\n",
      "++++++++++++++++ Months: 12  -  PRs: 94  -  Issues: 0  -  Project: Netflix/security_monkey - Init: 2014-11-01 15:07:02-03:00\n",
      "++++++++++++++++ Months: 12  -  PRs: 128  -  Issues: 0  -  Project: pilosa/pilosa - Init: 2016-03-03 17:43:56-03:00\n",
      "++++++++++++++++ Months: 12  -  PRs: 98  -  Issues: 0  -  Project: mgcrea/angular-strap - Init: 2013-02-03 12:41:15-03:00\n",
      "++++++++++++++++ Months: 12  -  PRs: 188  -  Issues: 0  -  Project: CouchPotato/CouchPotatoServer - Init: 2015-02-02 13:56:33-03:00\n",
      "++++++++++++++++ Months: 12  -  PRs: 569  -  Issues: 0  -  Project: jquery/jquery-mobile - Init: 2012-02-01 16:15:54-03:00\n",
      "++++++++++++++++ Months: 12  -  PRs: 267  -  Issues: 0  -  Project: go-lang-plugin-org/go-lang-idea-plugin - Init: 2013-11-09 18:58:45-03:00\n"
     ]
    }
   ],
   "source": [
    "repos = getProjects()\n",
    "\n",
    "for repo in repos:    \n",
    "    project = repo[0]\n",
    "    analysisPoint = repo[1]\n",
    "    ci_service = repo[2]\n",
    "    \n",
    "    \n",
    "    created = getFirstPRDate(project)\n",
    "    end_period = analysisPoint\n",
    "    \n",
    "    if created is None or end_period is None:\n",
    "        print('Project: {}  -  created is None or end_period is None'.format(project))\n",
    "        continue\n",
    "    \n",
    "    identifyPRActivity(project,created,end_period)"
   ]
  },
  {
   "cell_type": "code",
   "execution_count": 52,
   "metadata": {
    "ExecuteTime": {
     "end_time": "2022-01-13T15:28:11.556640Z",
     "start_time": "2022-01-13T15:28:11.533937Z"
    }
   },
   "outputs": [],
   "source": [
    "def identifyPRActivity(project,init,finish):\n",
    "    min_months = 12\n",
    "    \n",
    "    analysis_init_date = init\n",
    "    search_date = analysis_finish_date = finish #- relativedelta(months=1) \n",
    "    increment=0\n",
    "    period = total_issues = total_prs = 0\n",
    "    \n",
    "    #print('Project: {} - CI: {}'.format(project,finish))\n",
    "    #while search_date > init:\n",
    "    while increment < min_months and search_date > init:\n",
    "        \n",
    "        prs = selectPRs(project,search_date.month,search_date.year)\n",
    "        #print('\\t\\t --Search Date: {} - Prs: {}'.format(search_date,prs[0]))\n",
    "        #issues = selectIssues(project,search_date.month,search_date.year)\n",
    "        #total_issues += issues[0]\n",
    "        \n",
    "        period += 1\n",
    "        total_prs += prs[0]\n",
    "            \n",
    "        if prs[0]>0:\n",
    "            analysis_init_tmp = selectFirstPRMonth(project,search_date)\n",
    "           \n",
    "        increment +=1   \n",
    "        search_date = finish - relativedelta(months=increment)        \n",
    "        if search_date.month == init.month and search_date.year == init.year:\n",
    "            search_date = init\n",
    "    \n",
    "\n",
    "    #data da primeira PR do mês inicial\n",
    "    analysis_init_date = analysis_init_tmp \n",
    "    analysis_finish_date = finish\n",
    "    \n",
    "    \n",
    "    if period >= min_months:\n",
    "        print('++++++++++++++++ Months: {}  -  PRs: {}  -  Issues: {}  -  Project: {} - Init: {}'.format(period,total_prs,total_issues,project,analysis_init_date))\n",
    "        setRQ2Classification(project,True,analysis_init_date,analysis_finish_date)"
   ]
  },
  {
   "cell_type": "code",
   "execution_count": 2,
   "metadata": {
    "ExecuteTime": {
     "end_time": "2022-01-13T13:28:02.264750Z",
     "start_time": "2022-01-13T13:28:00.744479Z"
    }
   },
   "outputs": [
    {
     "data": {
      "text/plain": [
       "{'divide': 'warn', 'over': 'warn', 'under': 'ignore', 'invalid': 'warn'}"
      ]
     },
     "execution_count": 2,
     "metadata": {},
     "output_type": "execute_result"
    }
   ],
   "source": [
    "import psycopg2\n",
    "import os\n",
    "import requests \n",
    "import time\n",
    "import pytz    \n",
    "from datetime import datetime, timedelta\n",
    "from dateutil.relativedelta import relativedelta\n",
    "import pandas as pd\n",
    "from scipy import stats\n",
    "import numpy as np\n",
    "np.seterr(divide='ignore', invalid='ignore')"
   ]
  },
  {
   "cell_type": "code",
   "execution_count": 3,
   "metadata": {
    "ExecuteTime": {
     "end_time": "2022-01-13T13:28:02.269821Z",
     "start_time": "2022-01-13T13:28:02.266414Z"
    }
   },
   "outputs": [],
   "source": [
    "def connectDB():\n",
    "    f = open('/home/elieziosoares/psql_pwd.txt', \"r\")\n",
    "    pwd = f.readline().replace('\\n','')\n",
    "    \n",
    "    return psycopg2.connect(user = \"postgres\",\n",
    "                              password = pwd,\n",
    "                              host = \"127.0.0.1\",\n",
    "                              port = \"5432\",\n",
    "                              database = \"Causal_CI_Quality_v3\")"
   ]
  },
  {
   "cell_type": "code",
   "execution_count": 4,
   "metadata": {
    "ExecuteTime": {
     "end_time": "2022-01-13T13:28:02.317285Z",
     "start_time": "2022-01-13T13:28:02.271992Z"
    }
   },
   "outputs": [],
   "source": [
    "def getProjects():\n",
    "    query = \"\"\"SELECT repo_name, analysis_point,ci_service From projects where rq1 is true and ci is true and DATE_PART('day', analysis_init-analysis_point) < 30;\"\"\"\n",
    "    \n",
    "    connection = connectDB()\n",
    "    cursor = connection.cursor()\n",
    "    cursor.execute(query)\n",
    "    result = cursor.fetchall()\n",
    "    connection.close()\n",
    "    return result"
   ]
  },
  {
   "cell_type": "code",
   "execution_count": 5,
   "metadata": {
    "ExecuteTime": {
     "end_time": "2022-01-13T13:28:03.961862Z",
     "start_time": "2022-01-13T13:28:03.946198Z"
    }
   },
   "outputs": [],
   "source": [
    "def getFirstPRDate(project):\n",
    "    connection = connectDB()\n",
    "    cursor = connection.cursor()\n",
    "    \n",
    "    query = \"\"\"SELECT closed_at from pullrequests where  \n",
    "        project_name like %s\n",
    "        order by closed_at limit 1;\"\"\"\n",
    "\n",
    "    cursor.execute(query, [project])\n",
    "    row = cursor.fetchone()\n",
    "    \n",
    "    cursor.close()\n",
    "    connection.close()\n",
    "    if row is not None:\n",
    "        return row[0]\n",
    "    else:\n",
    "        return None"
   ]
  },
  {
   "cell_type": "code",
   "execution_count": 6,
   "metadata": {
    "ExecuteTime": {
     "end_time": "2022-01-13T13:28:06.158465Z",
     "start_time": "2022-01-13T13:28:06.150232Z"
    }
   },
   "outputs": [],
   "source": [
    "def selectPRs(project,month,year):\n",
    "    connection = connectDB()\n",
    "    cursor = connection.cursor()\n",
    "    \n",
    "    query = \"\"\"SELECT COUNT(ID) from pullrequests where  \n",
    "        date_part('month', closed_at) = %s\n",
    "        AND date_part('year', closed_at) = %s \n",
    "        AND project_name like %s\"\"\"\n",
    "\n",
    "    cursor.execute(query, [month,year,project])\n",
    "    row = cursor.fetchone()\n",
    "    \n",
    "    cursor.close()\n",
    "    connection.close()\n",
    "    return row"
   ]
  },
  {
   "cell_type": "code",
   "execution_count": 7,
   "metadata": {
    "ExecuteTime": {
     "end_time": "2022-01-13T13:28:07.536663Z",
     "start_time": "2022-01-13T13:28:07.522707Z"
    }
   },
   "outputs": [],
   "source": [
    "def selectFirstPRMonth(project,date):\n",
    "    connection = connectDB()\n",
    "    cursor = connection.cursor()\n",
    "    \n",
    "    query = \"\"\"SELECT closed_at from pullrequests where  \n",
    "        date_part('month', closed_at) = %s\n",
    "        AND date_part('year', closed_at) = %s \n",
    "        AND project_name like %s\n",
    "        order by closed_at limit 1;\"\"\"\n",
    "    \n",
    "    #cursor.execute(query, [date.month,date.year,project])\n",
    "    \n",
    "    #query = \"\"\"SELECT closed_at from pullrequests where  \n",
    "    #    closed_at >= %s\n",
    "    #    AND project_name like %s\n",
    "    #    order by closed_at limit 1;\"\"\"\n",
    "\n",
    "    cursor.execute(query, [date.month,date.year,project])\n",
    "    row = cursor.fetchone()\n",
    "    \n",
    "    cursor.close()\n",
    "    connection.close()\n",
    "    if row is not None:\n",
    "        return row[0]\n",
    "    else:\n",
    "        return None"
   ]
  },
  {
   "cell_type": "code",
   "execution_count": 37,
   "metadata": {
    "ExecuteTime": {
     "end_time": "2022-01-13T14:44:13.528798Z",
     "start_time": "2022-01-13T14:44:13.524025Z"
    }
   },
   "outputs": [],
   "source": [
    "def setRQ2Classification(repo_name,classification,analysis_init_date,analysis_finish_date):\n",
    "    query = \"\"\"UPDATE  projects \n",
    "        set rq2 = %s,\n",
    "        rq2_analysis_init = %s,\n",
    "        rq2_analysis_finish = %s\n",
    "        WHERE repo_name like %s\"\"\"\n",
    "\n",
    "    connection = connectDB()\n",
    "    cursor = connection.cursor()\n",
    "    cursor.execute(query, [classification,analysis_init_date,analysis_finish_date,repo_name])\n",
    "    connection.commit()\n",
    "    cursor.close()\n",
    "    connection.close()"
   ]
  },
  {
   "cell_type": "code",
   "execution_count": 45,
   "metadata": {
    "ExecuteTime": {
     "end_time": "2022-01-13T15:16:17.754536Z",
     "start_time": "2022-01-13T15:16:17.738205Z"
    }
   },
   "outputs": [],
   "source": [
    "def selectIssues(project,month,year):\n",
    "    connection = connectDB()\n",
    "    cursor = connection.cursor()\n",
    "    \n",
    "    query = \"\"\"select COUNT(ID) from issue where  \n",
    "        date_part('month', created_at) = %s\n",
    "        AND date_part('year', created_at) = %s \n",
    "        AND repo_name like %s\"\"\"\n",
    "\n",
    "    cursor.execute(query, [month,year,project])\n",
    "    row = cursor.fetchone()\n",
    "    \n",
    "    cursor.close()\n",
    "    connection.close()\n",
    "    return row"
   ]
  }
 ],
 "metadata": {
  "kernelspec": {
   "display_name": "Python 3",
   "language": "python",
   "name": "python3"
  },
  "language_info": {
   "codemirror_mode": {
    "name": "ipython",
    "version": 3
   },
   "file_extension": ".py",
   "mimetype": "text/x-python",
   "name": "python",
   "nbconvert_exporter": "python",
   "pygments_lexer": "ipython3",
   "version": "3.8.3"
  }
 },
 "nbformat": 4,
 "nbformat_minor": 4
}
