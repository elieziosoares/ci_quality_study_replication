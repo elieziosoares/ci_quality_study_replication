{
 "cells": [
  {
   "cell_type": "markdown",
   "metadata": {},
   "source": [
    "### 1- Mine releases from projects\n",
    "\n",
    "For each project:\n",
    "* get releases and save into database.\n",
    "\n",
    "Projects Selection:\n",
    " - qtd_stars >= 100\n",
    " - forked is false\n",
    " - size  > 10000\n",
    " - ci_service is null or (ci_service like 'Travis CI' and analysis_point is not null)"
   ]
  },
  {
   "cell_type": "code",
   "execution_count": null,
   "metadata": {
    "ExecuteTime": {
     "end_time": "2022-02-08T19:37:28.415816Z",
     "start_time": "2022-02-08T19:37:26.706450Z"
    }
   },
   "outputs": [],
   "source": [
    "repos = getProjects()\n",
    "i=0\n",
    "for repo in repos:\n",
    "    project = repo[0]\n",
    "    i += 1\n",
    "    print('\\n\\n\\n{}/{} Project - {}\\n\\n\\n'.format(i,len(repos),project))\n",
    "    \n",
    "    query_releases = 'https://api.github.com/repos/{}/releases?sort=created&direction=asc&per_page=100&page='.format(project)\n",
    "    mineReleases(project,query_releases)\n",
    "    setProjectReleaseMined(project)"
   ]
  },
  {
   "cell_type": "markdown",
   "metadata": {},
   "source": [
    "## 2- Classify Releases as major"
   ]
  },
  {
   "cell_type": "code",
   "execution_count": null,
   "metadata": {},
   "outputs": [],
   "source": [
    "repos = getProjectsMined()\n",
    "i=0\n",
    "for repo in repos:\n",
    "    project = repo[0]\n",
    "    i += 1\n",
    "    print('\\n\\n\\n{}/{} Project - {}\\n\\n\\n'.format(i,len(repos),project))\n",
    "    \n",
    "    releases = getReleases(repo[0])\n",
    "    for release in releases:\n",
    "        \n",
    "        if isMajor(release[1]):\n",
    "            updateMajorRelease(repo[0],release[0])"
   ]
  },
  {
   "cell_type": "markdown",
   "metadata": {},
   "source": [
    "## 3- Bind issues and PRs to releases"
   ]
  },
  {
   "cell_type": "code",
   "execution_count": null,
   "metadata": {},
   "outputs": [],
   "source": [
    "repos = getProjectsMined()\n",
    "i=0\n",
    "for repo in repos:\n",
    "    project = repo[0]\n",
    "    i += 1\n",
    "    print('\\n\\n\\n{}/{} Project - {}\\n\\n\\n'.format(i,len(repos),project))\n",
    "\n",
    "    #issues = getIssues(repo[0])\n",
    "    releases = getReleases(repo[0])\n",
    "    \n",
    "    j = len(releases) -1\n",
    "    while j >= 0:\n",
    "        release_creation = releases[j][2]\n",
    "        release_id = releases[j][3]\n",
    "        \n",
    "        updateIssues(project,release_creation,release_id)\n",
    "        updatePRs(project,release_creation,release_id)\n",
    "        \n",
    "        j -= 1"
   ]
  },
  {
   "cell_type": "code",
   "execution_count": null,
   "metadata": {},
   "outputs": [],
   "source": [
    "i = getReleases('lerna/lerna')"
   ]
  },
  {
   "cell_type": "code",
   "execution_count": null,
   "metadata": {},
   "outputs": [],
   "source": [
    "i"
   ]
  },
  {
   "cell_type": "markdown",
   "metadata": {},
   "source": [
    "### Aux Functions"
   ]
  },
  {
   "cell_type": "code",
   "execution_count": null,
   "metadata": {
    "ExecuteTime": {
     "end_time": "2022-02-08T19:36:59.072187Z",
     "start_time": "2022-02-08T19:36:58.165549Z"
    }
   },
   "outputs": [],
   "source": [
    "import psycopg2\n",
    "import os\n",
    "import requests \n",
    "import time\n",
    "from datetime import datetime, timedelta\n",
    "import pandas as pd\n",
    "from scipy import stats\n",
    "import numpy as np\n",
    "np.seterr(divide='ignore', invalid='ignore')"
   ]
  },
  {
   "cell_type": "code",
   "execution_count": null,
   "metadata": {
    "ExecuteTime": {
     "end_time": "2022-02-08T19:36:59.076721Z",
     "start_time": "2022-02-08T19:36:59.073701Z"
    }
   },
   "outputs": [],
   "source": [
    "def connectDB():\n",
    "    f = open('/home/psql_pwd.txt', \"r\")\n",
    "    pwd = f.readline().replace('\\n','')\n",
    "    \n",
    "    return psycopg2.connect(user = \"ci_quality\",\n",
    "                              password = pwd,\n",
    "                              host = \"127.0.0.1\",\n",
    "                              port = \"5432\",\n",
    "                              database = \"Causal_CI_Quality_v4\")"
   ]
  },
  {
   "cell_type": "code",
   "execution_count": null,
   "metadata": {},
   "outputs": [],
   "source": [
    "def loadTokens():\n",
    "    f = open('/home/gh_tokens.txt', \"r\")\n",
    "    tokens =[]\n",
    "    tk = f.readline().replace('\\n','')\n",
    "    while tk != '':\n",
    "        tokens.append(tk)\n",
    "        tk = f.readline().replace('\\n','')\n",
    "\n",
    "    f.close()\n",
    "    return tokens"
   ]
  },
  {
   "cell_type": "code",
   "execution_count": null,
   "metadata": {
    "ExecuteTime": {
     "end_time": "2022-02-08T19:36:59.361462Z",
     "start_time": "2022-02-08T19:36:59.342038Z"
    }
   },
   "outputs": [],
   "source": [
    "tokens = loadTokens()\n",
    "i_token =0\n",
    "\n",
    "\n",
    "def requestAPI(URL):\n",
    "    # api-endpoint \n",
    "    global i_token\n",
    "    \n",
    "    if (len(tokens)-1) > i_token:\n",
    "        i_token += 1\n",
    "    else:\n",
    "        i_token = 0\n",
    "        \n",
    "    r = requests.get(url = URL, headers={'Authorization': tokens[i_token],'Accept':'application/vnd.github.cloak-preview'}).json()\n",
    "    if len(r) > 0:\n",
    "        try:\n",
    "            #print('keys: {}'.format(r.keys()))\n",
    "            \n",
    "            if isinstance(r, dict) and 'message' in r.keys():\n",
    "                print('{} -- {}'.format(datetime.now().strftime(\"%H:%M:%S\"),r['message']))\n",
    "                if 'API rate limit exceeded' in r['message']:\n",
    "                    time.sleep(600)\n",
    "                    requestAPI(URL)\n",
    "                else:\n",
    "                    return None\n",
    "\n",
    "            return r\n",
    "        except Exception as e:\n",
    "            print('\\n Erro no request get: {}'.format(e))\n",
    "            print(r)\n",
    "    else:\n",
    "        return None"
   ]
  },
  {
   "cell_type": "code",
   "execution_count": null,
   "metadata": {
    "ExecuteTime": {
     "end_time": "2022-02-08T19:37:23.348376Z",
     "start_time": "2022-02-08T19:37:23.337730Z"
    }
   },
   "outputs": [],
   "source": [
    "def getProjects():\n",
    "    query = \"\"\"select repo_name from projects\n",
    "            where qtd_stars >= 100 and forked is false and size  > 10000\n",
    "            and (ci_service is null or ci_service like 'Travis CI') and analysis_point is not null)\n",
    "            and releases_mined is False\n",
    "            ORDER BY repo_name \"\"\"\n",
    "    \n",
    "    \n",
    "    connection = connectDB()\n",
    "    cursor = connection.cursor()\n",
    "    cursor.execute(query)\n",
    "    result = cursor.fetchall()\n",
    "    connection.close()\n",
    "    return result"
   ]
  },
  {
   "cell_type": "code",
   "execution_count": null,
   "metadata": {
    "ExecuteTime": {
     "end_time": "2022-02-08T19:36:59.431809Z",
     "start_time": "2022-02-08T19:36:59.409144Z"
    }
   },
   "outputs": [],
   "source": [
    "def setProjectReleaseMined(repo_name):\n",
    "    query = \"\"\"UPDATE  projects \n",
    "        set releases_mined = True\n",
    "        WHERE repo_name like %s\"\"\"\n",
    "\n",
    "    connection = connectDB()\n",
    "    cursor = connection.cursor()\n",
    "    cursor.execute(query, [repo_name])\n",
    "    connection.commit()\n",
    "    cursor.close()\n",
    "    connection.close()"
   ]
  },
  {
   "cell_type": "code",
   "execution_count": null,
   "metadata": {},
   "outputs": [],
   "source": [
    "def mineReleases(project,url):\n",
    "    page = 1\n",
    "    releases= requestAPI(url+str(page))\n",
    "    \n",
    "    while releases is not None and len(releases) > 0:\n",
    "        #processPRs(prs)\n",
    "        try:\n",
    "            for r in releases:\n",
    "                print('+ Project: {}   Release - {}'.format(project, r['id']))\n",
    "                storeRelease(project,r)\n",
    "        \n",
    "        except Exception as e:\n",
    "            print('\\n\\n==============================================================')\n",
    "            print('Error while processing storeRelease >>> Exception: {}'.format(e)) \n",
    "            print('Project: {}    Releases - {}\\n\\n'.format(project, url+str(page)))\n",
    "        \n",
    "        page += 1\n",
    "        releases= requestAPI(url+str(page))"
   ]
  },
  {
   "cell_type": "code",
   "execution_count": null,
   "metadata": {},
   "outputs": [],
   "source": [
    "def storeRelease(repo_name, release):\n",
    "    connection = connectDB()\n",
    "    cursor = connection.cursor()\n",
    "    \n",
    "    query = \"\"\"INSERT INTO project_releases(\n",
    "    repo_name,node_id,url,html_url,created_at,body,id,tag_name,name)\n",
    "    VALUES (%s,%s,%s,%s,%s,%s,%s,%s,%s);\"\"\"\n",
    "    \n",
    "    cursor.execute(query, [repo_name,release['node_id'],release['url'],release['html_url'],release['created_at'],release['body'],\n",
    "                           release['id'],release['tag_name'],release['name']])\n",
    "    connection.commit()\n",
    "    \n",
    "    cursor.close()\n",
    "    connection.close()"
   ]
  },
  {
   "cell_type": "code",
   "execution_count": null,
   "metadata": {},
   "outputs": [],
   "source": [
    "def getReleases(repo_name):\n",
    "    connection = connectDB()\n",
    "    cursor = connection.cursor()\n",
    "    \n",
    "    query = \"\"\"select id,tag_name, created_at, node_id from project_releases\n",
    "            where repo_name like %s\n",
    "            ORDER BY created_at asc;\"\"\"\n",
    "    \n",
    "    cursor.execute(query, [repo_name])\n",
    "    result = cursor.fetchall()\n",
    "    connection.close()\n",
    "    return result"
   ]
  },
  {
   "cell_type": "code",
   "execution_count": null,
   "metadata": {},
   "outputs": [],
   "source": [
    "def updateMajorRelease(repo_name,id):\n",
    "    query = \"\"\"UPDATE  project_releases \n",
    "        set major = True\n",
    "        WHERE repo_name like %s AND id = %s\"\"\"\n",
    "\n",
    "    connection = connectDB()\n",
    "    cursor = connection.cursor()\n",
    "    cursor.execute(query, [repo_name, id])\n",
    "    connection.commit()\n",
    "    cursor.close()\n",
    "    connection.close()"
   ]
  },
  {
   "cell_type": "code",
   "execution_count": null,
   "metadata": {},
   "outputs": [],
   "source": [
    "def getProjectsMined():\n",
    "    query = \"\"\"select repo_name from projects\n",
    "            where releases_mined is True\n",
    "            ORDER BY repo_name \"\"\"\n",
    "    \n",
    "    \n",
    "    connection = connectDB()\n",
    "    cursor = connection.cursor()\n",
    "    cursor.execute(query)\n",
    "    result = cursor.fetchall()\n",
    "    connection.close()\n",
    "    return result"
   ]
  },
  {
   "cell_type": "code",
   "execution_count": null,
   "metadata": {},
   "outputs": [],
   "source": [
    "def isMajor(tag):\n",
    "    parts = tag.split('.')\n",
    "    number =''\n",
    "    for p in parts:\n",
    "        number += ''.join(filter(str.isdigit, p))\n",
    "\n",
    "\n",
    "    if number == '':\n",
    "        return False\n",
    "    elif number[0] == '0':\n",
    "        number = '1'+number[1:]\n",
    "        \n",
    "    #print(number)\n",
    "    #print(number[0])\n",
    "    #print(len(number))\n",
    "    #print(number[0]+('0'*(len(number)-1)))\n",
    "    #print('result = {}'.format(int(number)/int(number[0]+('0'*(len(number)-1)))))\n",
    "        \n",
    "    result = int(number)/int(number[0]+('0'*(len(number)-1)))\n",
    "    if result == 1:\n",
    "        return True\n",
    "\n",
    "    return False"
   ]
  },
  {
   "cell_type": "code",
   "execution_count": null,
   "metadata": {},
   "outputs": [],
   "source": [
    "def getIssues(repo_name):\n",
    "    connection = connectDB()\n",
    "    cursor = connection.cursor()\n",
    "    \n",
    "    query = \"\"\"select id,created_at from issue\n",
    "            where repo_name like %s\n",
    "            ORDER BY created_at \"\"\"\n",
    "    \n",
    "    cursor.execute(query, [repo_name])\n",
    "    result = cursor.fetchall()\n",
    "    connection.close()\n",
    "    return result"
   ]
  },
  {
   "cell_type": "code",
   "execution_count": null,
   "metadata": {},
   "outputs": [],
   "source": [
    "def updateIssues(repo_name,dt,node_id):\n",
    "    query = \"\"\"select * from bindissuesreleases(%s,%s,%s);\"\"\"\n",
    "    \n",
    "    print('select * from bindissuesreleases({},{},{});'.format(repo_name, dt,node_id))\n",
    "\n",
    "    connection = connectDB()\n",
    "    cursor = connection.cursor()\n",
    "    #cursor.callproc('bindissuesreleases', (str(repo_name), dt,str(node_id)))\n",
    "    cursor.execute(query, [repo_name, dt,node_id])\n",
    "    connection.commit()\n",
    "    cursor.close()\n",
    "    connection.close()"
   ]
  },
  {
   "cell_type": "code",
   "execution_count": null,
   "metadata": {},
   "outputs": [],
   "source": [
    "def updatePRs(repo_name,dt,node_id):\n",
    "    query = \"\"\"select * from bindprsreleases(%s,%s,%s);\"\"\"\n",
    "    \n",
    "    print('select * from bindprsreleases({},{},{});'.format(repo_name, dt,node_id))\n",
    "\n",
    "    connection = connectDB()\n",
    "    cursor = connection.cursor()\n",
    "    cursor.callproc('bindprsreleases', (repo_name, dt,node_id))\n",
    "    #cursor.execute(query, [repo_name, dt,node_id])\n",
    "    connection.commit()\n",
    "    cursor.close()\n",
    "    connection.close()"
   ]
  },
  {
   "cell_type": "code",
   "execution_count": null,
   "metadata": {},
   "outputs": [],
   "source": []
  }
 ],
 "metadata": {
  "kernelspec": {
   "display_name": "Python 3 (ipykernel)",
   "language": "python",
   "name": "python3"
  },
  "language_info": {
   "codemirror_mode": {
    "name": "ipython",
    "version": 3
   },
   "file_extension": ".py",
   "mimetype": "text/x-python",
   "name": "python",
   "nbconvert_exporter": "python",
   "pygments_lexer": "ipython3",
   "version": "3.8.15"
  }
 },
 "nbformat": 4,
 "nbformat_minor": 4
}
