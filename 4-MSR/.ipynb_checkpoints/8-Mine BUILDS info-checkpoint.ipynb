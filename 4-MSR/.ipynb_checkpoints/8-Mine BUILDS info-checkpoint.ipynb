{
 "cells": [
  {
   "cell_type": "markdown",
   "metadata": {},
   "source": [
    "## Build Info Mining\n",
    "\n",
    "1. Get preliminar info: Travis_repo_id, last_build_number, last_build_date\n",
    "2. Get builds info"
   ]
  },
  {
   "cell_type": "markdown",
   "metadata": {},
   "source": [
    "### 1. Request Travis info and get <travis_repo_id, last_build_number,last_build_date>"
   ]
  },
  {
   "cell_type": "code",
   "execution_count": 16,
   "metadata": {
    "ExecuteTime": {
     "end_time": "2021-11-04T19:24:45.193407Z",
     "start_time": "2021-11-04T19:24:44.021246Z"
    }
   },
   "outputs": [
    {
     "name": "stdout",
     "output_type": "stream",
     "text": [
      "Getting info from uber/aresdb (1/1).\n",
      "Updated table projects info from uber/aresdb: Repo id: 21945804; Builds: None\n"
     ]
    }
   ],
   "source": [
    "projects = getProjects()\n",
    "i=0\n",
    "error=[]\n",
    "while i < len(projects):\n",
    "    try:\n",
    "        #If we already have the information, skip to next one.\n",
    "        if len(projects[i]) > 1:\n",
    "            i+=1\n",
    "            continue\n",
    "\n",
    "        repo = projects[i][0]\n",
    "        print('Getting info from {} ({}/{}).'.format(repo,i+1,len(projects)))\n",
    "\n",
    "        # api-endpoint \n",
    "        URL = 'https://api.travis-ci.org/repos/{}'.format(repo)\n",
    "        data = requestTravisAPI(URL)\n",
    "        \n",
    "        projects[i] = projects[i] + (data['id'], data['last_build_started_at'],data['last_build_number'])\n",
    "        \n",
    "        updateProjectRepo(projects[i][0],projects[i][1],projects[i][2],projects[i][3])\n",
    "        print('Updated table projects info from {}: Repo id: {}; Builds: {}'.format(projects[i][0],projects[i][1],projects[i][2]))\n",
    "\n",
    "        i+=1\n",
    "    except KeyError:\n",
    "        error.append(repo)\n",
    "        print('ERROR WHILE REQUEST INFO FROM {} ({}/{}).'.format(repo,i+1,len(projects)))\n",
    "        i+=1\n",
    "#projects"
   ]
  },
  {
   "cell_type": "markdown",
   "metadata": {},
   "source": [
    "### 2. Request Travis info of builds"
   ]
  },
  {
   "cell_type": "code",
   "execution_count": 21,
   "metadata": {
    "ExecuteTime": {
     "end_time": "2021-11-09T02:53:04.432440Z",
     "start_time": "2021-11-09T02:53:03.235194Z"
    }
   },
   "outputs": [
    {
     "name": "stdout",
     "output_type": "stream",
     "text": [
      "****** Starting mine repo 13250136 from build number: 2922\n",
      "CONTINUING OLD PROCESS from build number: 2282\n",
      "Requesting from build number: 2282\n"
     ]
    }
   ],
   "source": [
    "projects = getProjectsToMineBuilds()\n",
    "\n",
    "for p in projects:\n",
    "    mineBuilds(p[0],p[1],int(p[2]))"
   ]
  },
  {
   "cell_type": "code",
   "execution_count": 17,
   "metadata": {
    "ExecuteTime": {
     "end_time": "2021-11-09T02:16:17.689889Z",
     "start_time": "2021-11-09T02:16:17.664463Z"
    }
   },
   "outputs": [
    {
     "data": {
      "text/plain": [
       "('pilosa/pilosa',\n",
       " 13250136,\n",
       " 2922,\n",
       " datetime.datetime(2017, 2, 1, 16, 9, 43, tzinfo=psycopg2.tz.FixedOffsetTimezone(offset=-180, name=None)),\n",
       " datetime.datetime(2019, 12, 4, 20, 13, 53, tzinfo=psycopg2.tz.FixedOffsetTimezone(offset=-180, name=None)))"
      ]
     },
     "execution_count": 17,
     "metadata": {},
     "output_type": "execute_result"
    }
   ],
   "source": [
    "projects = getProjectsToMineBuilds()\n",
    "projects[0]"
   ]
  },
  {
   "cell_type": "code",
   "execution_count": 13,
   "metadata": {
    "ExecuteTime": {
     "end_time": "2021-11-09T02:14:28.759091Z",
     "start_time": "2021-11-09T02:14:28.731236Z"
    }
   },
   "outputs": [],
   "source": [
    "def mineBuilds(slug,repo_id,build_numb):\n",
    "    print('****** Starting mine repo {} from build number: {}'.format(repo_id,build_numb))\n",
    "    \n",
    "    #Query the database to continue mining in break situations\n",
    "    build_min = getBuildNumber(repo_id)\n",
    "    if build_min is not None:\n",
    "        print('CONTINUING OLD PROCESS from build number: {}'.format(build_min))\n",
    "        build_numb = int(build_min)\n",
    "        \n",
    "        if build_numb == 1:\n",
    "            return\n",
    "        \n",
    "\n",
    "    while build_numb > 0:\n",
    "        print('Requesting from build number: {}'.format(build_numb))\n",
    "\n",
    "        endpoint = 'https://api.travis-ci.org/builds?after_number={}&repository_id={}'.format(build_numb,repo_id)\n",
    "        r = requestTravisAPI(endpoint)\n",
    "        \n",
    "        if len(r) > 0:\n",
    "            print('Recording builds...')\n",
    "            #print(r.json())\n",
    "            insertBuilds(r,slug)\n",
    "        \n",
    "            build_numb = build_numb - 25\n",
    "        else:\n",
    "            break"
   ]
  },
  {
   "cell_type": "markdown",
   "metadata": {},
   "source": [
    "### Aux Functions"
   ]
  },
  {
   "cell_type": "code",
   "execution_count": 1,
   "metadata": {
    "ExecuteTime": {
     "end_time": "2021-11-09T02:14:07.719602Z",
     "start_time": "2021-11-09T02:14:06.425174Z"
    }
   },
   "outputs": [],
   "source": [
    "import psycopg2\n",
    "import os\n",
    "import requests \n",
    "import time\n",
    "import pytz    \n",
    "from datetime import datetime, timedelta\n",
    "from dateutil.relativedelta import relativedelta\n",
    "import pandas as pd\n",
    "from scipy import stats\n",
    "import numpy as np\n",
    "np.seterr(divide='ignore', invalid='ignore')\n",
    "from bs4 import BeautifulSoup"
   ]
  },
  {
   "cell_type": "code",
   "execution_count": 2,
   "metadata": {
    "ExecuteTime": {
     "end_time": "2021-11-09T02:14:07.726969Z",
     "start_time": "2021-11-09T02:14:07.722280Z"
    }
   },
   "outputs": [],
   "source": [
    "def connectDB():\n",
    "    f = open('/home/psql_pwd.txt', \"r\")\n",
    "    pwd = f.readline().replace('\\n','')\n",
    "    \n",
    "    return psycopg2.connect(user = \"ci_quality\",\n",
    "                              password = pwd,\n",
    "                              host = \"127.0.0.1\",\n",
    "                              port = \"5432\",\n",
    "                              database = \"Causal_CI_Quality_v3\")"
   ]
  },
  {
   "cell_type": "code",
   "execution_count": 3,
   "metadata": {
    "ExecuteTime": {
     "end_time": "2021-11-09T02:14:07.743444Z",
     "start_time": "2021-11-09T02:14:07.731987Z"
    }
   },
   "outputs": [],
   "source": [
    "def requestTravisAPI(URL):\n",
    "    \n",
    "    r = requests.get(url = URL).json()\n",
    "    return r"
   ]
  },
  {
   "cell_type": "markdown",
   "metadata": {},
   "source": [
    "#### Select repo slugs from database waiting mining"
   ]
  },
  {
   "cell_type": "code",
   "execution_count": 4,
   "metadata": {
    "ExecuteTime": {
     "end_time": "2021-11-09T02:14:07.769723Z",
     "start_time": "2021-11-09T02:14:07.750270Z"
    }
   },
   "outputs": [],
   "source": [
    "def getProjects():\n",
    "    query = \"\"\"SELECT DISTINCT repo_name From PROJECTS \n",
    "    WHERE --(commits_mined2 IS TRUE or merge_commits_mined is true) \n",
    "    (prs_selected IS TRUE and issues_selected is true) \n",
    "    and ci_service is not null\n",
    "    and repo_name like 'pilosa/pilosa'\n",
    "    order by repo_name\"\"\"\n",
    "    \n",
    "    connection = connectDB()\n",
    "    cursor = connection.cursor()\n",
    "    cursor.execute(query)\n",
    "    result = cursor.fetchall()\n",
    "    connection.close()\n",
    "    return result"
   ]
  },
  {
   "cell_type": "code",
   "execution_count": 15,
   "metadata": {
    "ExecuteTime": {
     "end_time": "2021-11-09T02:15:15.037757Z",
     "start_time": "2021-11-09T02:15:15.019834Z"
    }
   },
   "outputs": [],
   "source": [
    "def getProjectsToMineBuilds():\n",
    "    query = \"\"\"SELECT repo_name, repo_id_travis, last_build_number, analysis_init,analysis_finish From PROJECTS \n",
    "    WHERE --(commits_mined2 IS TRUE or merge_commits_mined is true) and last_build_number is not null\n",
    "    --(prs_selected IS TRUE and issues_selected is true) and last_build_number is not null\n",
    "    repo_name like 'pilosa/pilosa'\n",
    "    order by repo_name\"\"\"\n",
    "    \n",
    "    connection = connectDB()\n",
    "    cursor = connection.cursor()\n",
    "    cursor.execute(query)\n",
    "    result = cursor.fetchall()\n",
    "    connection.close()\n",
    "    return result"
   ]
  },
  {
   "cell_type": "code",
   "execution_count": 6,
   "metadata": {
    "ExecuteTime": {
     "end_time": "2021-11-09T02:14:07.824430Z",
     "start_time": "2021-11-09T02:14:07.799411Z"
    }
   },
   "outputs": [],
   "source": [
    "def updateProjectRepo(repo_name,repo_id_travis, last_build_dt, last_build_number):\n",
    "    try:\n",
    "        query = \"\"\"UPDATE  projects \n",
    "            set repo_id_travis = %s,\n",
    "            last_build = %s,\n",
    "            last_build_number = %s\n",
    "            WHERE repo_name like %s\"\"\"\n",
    "\n",
    "        connection = connectDB()\n",
    "        cursor = connection.cursor()\n",
    "        cursor.execute(query, [repo_id_travis,last_build_dt, last_build_number,repo_name])\n",
    "        connection.commit()\n",
    "        cursor.close()\n",
    "        connection.close()\n",
    "    except psycopg2.IntegrityError as e:\n",
    "        print (\"==============================================================\")\n",
    "        print (\"Error while updating into PostgreSQL. updateProjectRepo >>> Exception: {}\".format(e)) \n",
    "        print('Project: {}    PR - {} '.format(repo_name, pr_number))\n",
    "        connection.close()\n",
    "    except Exception as e:\n",
    "        print (\"==============================================================\")\n",
    "        print (\"Error while processing updateProjectRepo >>> Exception: {}\".format(e)) \n",
    "        print('Project: {}    PR - {}  '.format(repo_name, pr_number))"
   ]
  },
  {
   "cell_type": "code",
   "execution_count": 7,
   "metadata": {
    "ExecuteTime": {
     "end_time": "2021-11-09T02:14:07.870919Z",
     "start_time": "2021-11-09T02:14:07.826702Z"
    }
   },
   "outputs": [],
   "source": [
    "def getBuildNumber(repo_id):\n",
    "    query = \"\"\"SELECT MIN(build_number) FROM builds_mined WHERE repository_id = %s\"\"\"\n",
    "\n",
    "    connection = connectDB()\n",
    "    cursor = connection.cursor()\n",
    "    \n",
    "    cursor.execute(query, [repo_id])\n",
    "    row = cursor.fetchone()\n",
    "    cursor.close()\n",
    "    connection.close()\n",
    "    return row[0]\n"
   ]
  },
  {
   "cell_type": "code",
   "execution_count": 19,
   "metadata": {
    "ExecuteTime": {
     "end_time": "2021-11-09T02:19:27.897911Z",
     "start_time": "2021-11-09T02:19:27.882821Z"
    }
   },
   "outputs": [],
   "source": [
    "def insertBuilds(builds,slug):\n",
    "    connection = connectDB()\n",
    "    cursor = connection.cursor()\n",
    "    \n",
    "    print(len(builds))\n",
    "    for b in builds:\n",
    "        try:\n",
    "            #print(b)\n",
    "\n",
    "            query = \"\"\"INSERT INTO builds_mined (repository_id ,repo_name, build_id ,build_number ,state, \n",
    "            result, started_at, finished_at, duration, commit, branch, message, event_type) VALUES(\"\"\"+'%s,'*12+'%s);'\n",
    "\n",
    "            cursor.execute(query, [b['repository_id'],slug,b['id'],b['number'],b['state'],bool(b['result']),b['started_at'],b['finished_at'],\n",
    "                                  b['duration'],b['commit'],b['branch'],b['message'],b['event_type']])\n",
    "\n",
    "            connection.commit()\n",
    "            print(\"\"\"INSERT INTO builds_mined (repository_id ,repo_name, build_id ,build_number ,state, \n",
    "            result, started_at, finished_at, duration, commit, branch, message, event_type) VALUES({},{},{},{},{},{},{},{},{},{},{},{},{},{})\"\"\".format(b['repository_id'],slug,b['id'],b['number'],b['state'],bool(b['result']),b['started_at'],b['finished_at'],\n",
    "                                  b['duration'],b['commit'],b['branch'],b['message'],b['event_type']))\n",
    "            \n",
    "            #print()\n",
    "        except psycopg2.IntegrityError as e:\n",
    "            print (\"Error while inserting into PostgreSQL. insertBuilds >>> Repository: {}, build: {} >>> {}\".format(b['repository_id'],b['id'], e)) \n",
    "            cursor.close()\n",
    "            connection.close()\n",
    "            connection = connectDB()\n",
    "            cursor = connection.cursor()\n",
    "        except Exception as e:\n",
    "            print (\"==============================================================\")\n",
    "            print (\"Error while processing insertBuilds >>> Exception: {}\".format(e)) \n",
    "            print('Project: {}    PR - {}  '.format(repo_name, pr_number))\n",
    "            cursor.close()\n",
    "            connection.close()\n",
    "            connection = connectDB()\n",
    "            cursor = connection.cursor()\n",
    "    cursor.close()\n",
    "    connection.close()"
   ]
  },
  {
   "cell_type": "code",
   "execution_count": 9,
   "metadata": {
    "ExecuteTime": {
     "end_time": "2021-11-09T02:14:07.941815Z",
     "start_time": "2021-11-09T02:14:07.901645Z"
    }
   },
   "outputs": [],
   "source": [
    "def getRepos():\n",
    "\n",
    "    query = \"\"\"SELECT DISTINCT repo_name FROM PROJECTS\"\"\"\n",
    "\n",
    "    connection = connectDB()\n",
    "    cursor = connection.cursor()\n",
    "    cursor.execute(query)\n",
    "    result = cursor.fetchall()\n",
    "    connection.close()\n",
    "    return result\n",
    "    \n",
    "    "
   ]
  },
  {
   "cell_type": "code",
   "execution_count": 10,
   "metadata": {
    "ExecuteTime": {
     "end_time": "2021-11-09T02:14:07.988211Z",
     "start_time": "2021-11-09T02:14:07.944057Z"
    }
   },
   "outputs": [],
   "source": [
    "def getInitDate(repo_slug):\n",
    "    query = \"\"\"SELECT MIN(closed_at) FROM pullrequests WHERE project_name = %s\"\"\"\n",
    "\n",
    "    connection = connectDB()\n",
    "    cursor = connection.cursor()\n",
    "    \n",
    "    cursor.execute(query, [repo_slug])\n",
    "    row = cursor.fetchone()\n",
    "    connection.close()\n",
    "    return row[0]\n",
    "\n",
    "#getInitDate('samueldple/datetimekt')"
   ]
  },
  {
   "cell_type": "code",
   "execution_count": 11,
   "metadata": {
    "ExecuteTime": {
     "end_time": "2021-11-09T02:14:08.013572Z",
     "start_time": "2021-11-09T02:14:07.990049Z"
    }
   },
   "outputs": [],
   "source": [
    "def getFinishDate(repo_slug):\n",
    "    query = \"\"\"SELECT MAX(closed_at) FROM pullrequests WHERE project_name = %s\"\"\"\n",
    "\n",
    "    connection = connectDB()\n",
    "    cursor = connection.cursor()\n",
    "    \n",
    "    cursor.execute(query, [repo_slug])\n",
    "    row = cursor.fetchone()\n",
    "    connection.close()\n",
    "    return row[0]\n"
   ]
  },
  {
   "cell_type": "code",
   "execution_count": null,
   "metadata": {},
   "outputs": [],
   "source": []
  }
 ],
 "metadata": {
  "kernelspec": {
   "display_name": "Python 3 (ipykernel)",
   "language": "python",
   "name": "python3"
  },
  "language_info": {
   "codemirror_mode": {
    "name": "ipython",
    "version": 3
   },
   "file_extension": ".py",
   "mimetype": "text/x-python",
   "name": "python",
   "nbconvert_exporter": "python",
   "pygments_lexer": "ipython3",
   "version": "3.8.15"
  }
 },
 "nbformat": 4,
 "nbformat_minor": 4
}
