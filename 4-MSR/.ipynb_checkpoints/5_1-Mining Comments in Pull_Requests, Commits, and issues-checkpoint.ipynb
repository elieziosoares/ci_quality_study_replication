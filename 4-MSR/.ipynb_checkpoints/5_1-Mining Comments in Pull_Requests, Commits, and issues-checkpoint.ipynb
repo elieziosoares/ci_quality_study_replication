{
 "cells": [
  {
   "cell_type": "markdown",
   "metadata": {},
   "source": [
    "### Mining Commits metadata and communication\n",
    "- Flagging the PRs under analysis\n",
    "- Mining Commit Metadata and Communication\n",
    "- Mining merge commits\n"
   ]
  },
  {
   "cell_type": "code",
   "execution_count": null,
   "metadata": {
    "ExecuteTime": {
     "end_time": "2021-10-21T15:46:13.621056Z",
     "start_time": "2021-10-21T15:43:34.817971Z"
    }
   },
   "outputs": [],
   "source": [
    "projects = getProjects()\n",
    "\n",
    "for repo in projects:\n",
    "    repo_name = repo[0]\n",
    "    repo_url = repo[1]\n",
    "    init_date = repo[2]\n",
    "    end_date = repo[3]\n",
    "    mined = True\n",
    "    \n",
    "    print('\\n\\n----------- {} - INITIALIZING {} -----------\\n\\n'.format(datetime.now().strftime(\"%H:%M:%S\"),repo_name))\n",
    "    \n",
    "    releases = getReleasesInPeriod(repo_name,init_date,end_date)\n",
    "    for r in releases:\n",
    "        release_id = r[0]\n",
    "        \n",
    "        \n",
    "        prs = getPRsNotMined(release_id)\n",
    "        for PR in prs:    \n",
    "            print('\\t\\t PR: {}'.format(PR[0]))\n",
    "            \n",
    "            #collect number of comments and save it on pullrequests table\n",
    "            communication_mined = setCommunication(repo_name, PR[0], PR[1],PR[3])      \n",
    "\n",
    "            #collect the commits for each pull request\n",
    "            commits_mined = getCommits(PR[2],repo_name, PR[0])\n",
    "\n",
    "\n",
    "            #Check 'mined' flag on table pullrequests.\n",
    "            if communication_mined and commits_mined:\n",
    "                checkPRMined(repo_name, PR[0])\n",
    "            else:\n",
    "                mined = False\n",
    "\n",
    "            #If merge_commit_sha is not null, record as merge PR\n",
    "            if PR[4] is not None:\n",
    "                recordMergeCommit(PR[4])\n",
    "\n",
    "\n",
    "    #Check 'mined' flag on table projects.\n",
    "    checkProjectMined(repo_name, mined)\n",
    "\n",
    "    print('----------- {}'.format(datetime.now().strftime(\"%H:%M:%S\")))"
   ]
  },
  {
   "cell_type": "code",
   "execution_count": null,
   "metadata": {},
   "outputs": [],
   "source": [
    "def getReleasesInPeriod(project,init,finish):\n",
    "    connection = connectDB()\n",
    "    cursor = connection.cursor()\n",
    "    \n",
    "    query = \"\"\"select node_id from project_releases \n",
    "        where repo_name like %s\n",
    "        and created_at between %s and %s\"\"\"\n",
    "\n",
    "    cursor.execute(query, [project,init,finish])\n",
    "    result = cursor.fetchall()\n",
    "    cursor.close()\n",
    "    connection.close()\n",
    "    return result"
   ]
  },
  {
   "cell_type": "code",
   "execution_count": null,
   "metadata": {},
   "outputs": [],
   "source": [
    "def getPRsNotMined(release_id):\n",
    "    connection = connectDB()\n",
    "    cursor = connection.cursor()\n",
    "    \n",
    "    query = \"\"\"select pr_number,COMMENTS_URL, commits_url, review_comments_url,merge_commit_sha\n",
    "        from PULLREQUESTS \n",
    "        where release_id like %s and mined1 is not True;\"\"\"\n",
    "\n",
    "    cursor.execute(query, [release_id])\n",
    "    result = cursor.fetchall()\n",
    "    cursor.close()\n",
    "    connection.close()\n",
    "    return result"
   ]
  },
  {
   "cell_type": "markdown",
   "metadata": {},
   "source": [
    "## Aux Functions"
   ]
  },
  {
   "cell_type": "code",
   "execution_count": null,
   "metadata": {
    "ExecuteTime": {
     "end_time": "2021-10-20T23:12:43.455249Z",
     "start_time": "2021-10-20T23:12:43.429328Z"
    }
   },
   "outputs": [],
   "source": [
    "def getCommits(commits_url,repo_name,pr_number):    \n",
    "    try:\n",
    "        commits = requestAPI(commits_url)\n",
    "        if commits is not None:\n",
    "            qty_commits = len(commits)\n",
    "            i=0\n",
    "            for commit in commits:\n",
    "                i+=1\n",
    "                if commit['author'] is not None and len(commit['author']) > 0:\n",
    "                    storeAuthor(commit['author'])\n",
    "                saveCommit(commit,repo_name,pr_number)\n",
    "                print('Commit {}/{} - {}'.format(i,qty_commits,commits_url))\n",
    "        else:\n",
    "            qty_commits = 0\n",
    "            \n",
    "    except psycopg2.IntegrityError as e:\n",
    "        print (\"==============================================================\")\n",
    "        print (\"Error while inserting into PostgreSQL. getCommits >>> Exception: {}\".format(e)) \n",
    "        print('Project: {}    PR - {} '.format(repo_name, pr_number))\n",
    "        return False\n",
    "    except Exception as e:\n",
    "        print (\"==============================================================\")\n",
    "        print (\"Error while processing getCommits >>> Exception: {}\".format(e)) \n",
    "        print('Project: {}    PR - {}  '.format(repo_name, pr_number))\n",
    "        return False\n",
    "    \n",
    "    try:\n",
    "        query = \"\"\"UPDATE  PULLREQUESTS \n",
    "            set commits = %s\n",
    "            WHERE project_name like %s and pr_number = %s;\"\"\"\n",
    "        \n",
    "        print('....Updating pullrequest: UPDATE  PULLREQUESTS set commits = {} WHERE project_name like {} and id = {};'.format(qty_commits,repo_name,pr_number))\n",
    "\n",
    "        connection = connectDB()\n",
    "        cursor = connection.cursor()\n",
    "        cursor.execute(query, [qty_commits,repo_name,pr_number])\n",
    "        connection.commit()\n",
    "        connection.close()\n",
    "    except psycopg2.IntegrityError as e:\n",
    "        print (\"\\n==============================================================\")\n",
    "        print (\"Error while inserting into PostgreSQL. getCommits - PullRequests >>> Exception: {}\".format(e)) \n",
    "        print('Project: {}    PR - {} '.format(repo_name, pr_number))\n",
    "        connection.close()\n",
    "        connection = connectDB()\n",
    "        return False\n",
    "    except Exception as e:\n",
    "        print (\"\\n==============================================================\")\n",
    "        print (\"Error while processing getCommits - PullRequests >>> Exception: {}\".format(e)) \n",
    "        print('Project: {}    PR - {}  '.format(repo_name, pr_number))\n",
    "        return False\n",
    "    \n",
    "    return True\n"
   ]
  },
  {
   "cell_type": "code",
   "execution_count": null,
   "metadata": {
    "ExecuteTime": {
     "end_time": "2021-10-20T23:15:54.831893Z",
     "start_time": "2021-10-20T23:15:54.810462Z"
    }
   },
   "outputs": [],
   "source": [
    "def saveCommit(commit,repo_name,pr_number):\n",
    "    connection = connectDB()\n",
    "    cursor = connection.cursor()\n",
    "    query = \"\"\"SELECT * FROM commits WHERE commit_sha like %s;\"\"\"\n",
    "    cursor.execute(query,[commit['sha']])\n",
    "    row = cursor.fetchone()\n",
    "    connection.commit()\n",
    " \n",
    "    if row is None:  \n",
    "        cursor_insert = connection.cursor()           \n",
    "        query = \"\"\"INSERT INTO commits (commit_sha,commit_date,msg,author_id) \n",
    "        VALUES(%s,%s,%s,%s);\"\"\"\n",
    "    \n",
    "        \n",
    "        if commit['author'] is not None and len(commit['author']) > 0:\n",
    "            commit_id = commit['author']['id']\n",
    "        else:\n",
    "            commit_id = None\n",
    "            \n",
    "        cursor_insert = connection.cursor()\n",
    "        cursor_insert.execute(query, [commit['sha'],commit['commit']['committer']['date'],commit['commit']['message'],commit_id])\n",
    "        connection.commit()\n",
    "    \n",
    "    cursor_insert = connection.cursor()           \n",
    "    query = \"\"\"INSERT INTO commit_PR (pr_number,project_name,commit_sha) \n",
    "    VALUES(%s,%s,%s);\"\"\"\n",
    "\n",
    "    cursor_insert = connection.cursor()\n",
    "    cursor_insert.execute(query, [str(pr_number), repo_name, commit['sha']])\n",
    "    connection.commit()\n",
    "    connection.close()"
   ]
  },
  {
   "cell_type": "code",
   "execution_count": null,
   "metadata": {
    "ExecuteTime": {
     "end_time": "2021-10-20T23:15:57.236745Z",
     "start_time": "2021-10-20T23:15:57.228255Z"
    }
   },
   "outputs": [],
   "source": [
    "import psycopg2\n",
    "import os\n",
    "import requests \n",
    "import time\n",
    "import pytz    \n",
    "import calendar\n",
    "from datetime import datetime, timedelta\n",
    "from dateutil.relativedelta import relativedelta\n",
    "import pandas as pd\n",
    "from scipy import stats\n",
    "import numpy as np\n",
    "np.seterr(divide='ignore', invalid='ignore')\n",
    "from bs4 import BeautifulSoup"
   ]
  },
  {
   "cell_type": "code",
   "execution_count": null,
   "metadata": {
    "ExecuteTime": {
     "end_time": "2021-10-20T23:15:57.457825Z",
     "start_time": "2021-10-20T23:15:57.451558Z"
    }
   },
   "outputs": [],
   "source": [
    "def connectDB():\n",
    "    f = open('/home/psql_pwd.txt', \"r\")\n",
    "    pwd = f.readline().replace('\\n','')\n",
    "    \n",
    "    return psycopg2.connect(user = \"ci_quality\",\n",
    "                              password = pwd,\n",
    "                              host = \"127.0.0.1\",\n",
    "                              port = \"5432\",\n",
    "                              database = \"Causal_CI_Quality_v4\")"
   ]
  },
  {
   "cell_type": "markdown",
   "metadata": {},
   "source": [
    "#### Step 1 - Select projects not mined yet."
   ]
  },
  {
   "cell_type": "code",
   "execution_count": null,
   "metadata": {
    "ExecuteTime": {
     "end_time": "2021-10-21T15:47:21.956811Z",
     "start_time": "2021-10-21T15:47:21.946057Z"
    }
   },
   "outputs": [],
   "source": [
    "def getProjects():\n",
    "    query = \"\"\"select repo_name, repo_url,analysis_init,analysis_finish from projects P\n",
    "        where (P.commits_mined is not true or P.comments_mined is not true)\n",
    "            AND P.analysis_releases > 0 AND P.analysis_issues > 0 AND P.analysis_prs > 0\n",
    "            and P.qty_bugs > 0 and P.analysis_point_days is not NULL\n",
    "            order by repo_name;\"\"\"\n",
    "\n",
    "    connection = connectDB()\n",
    "    cursor = connection.cursor()\n",
    "    cursor.execute(query)\n",
    "    result = cursor.fetchall()\n",
    "    connection.close()\n",
    "    return result"
   ]
  },
  {
   "cell_type": "code",
   "execution_count": null,
   "metadata": {
    "ExecuteTime": {
     "end_time": "2021-10-20T23:10:21.172846Z",
     "start_time": "2021-10-20T23:10:21.169419Z"
    }
   },
   "outputs": [],
   "source": [
    "def getProjectsMergeCommits():\n",
    "    query = \"\"\"SELECT * FROM PROJECTS WHERE commits_mined2 is True order by repo_name;\"\"\"\n",
    "\n",
    "    connection = connectDB()\n",
    "    cursor = connection.cursor()\n",
    "    cursor.execute(query)\n",
    "    result = cursor.fetchall()\n",
    "    connection.close()\n",
    "    return result"
   ]
  },
  {
   "cell_type": "code",
   "execution_count": null,
   "metadata": {
    "ExecuteTime": {
     "end_time": "2021-10-20T23:10:21.444742Z",
     "start_time": "2021-10-20T23:10:21.438035Z"
    }
   },
   "outputs": [],
   "source": [
    "def getPRsMerge(project_name):\n",
    "    query = \"\"\"select merge_commit_sha,id_user from pullrequests where merge_commit_sha is not null\n",
    "    and project_name like %s\"\"\"\n",
    "    \n",
    "    connection = connectDB()\n",
    "    cursor = connection.cursor()\n",
    "    cursor.execute(query, [project_name])\n",
    "    result = cursor.fetchall()\n",
    "    connection.close()\n",
    "    return result"
   ]
  },
  {
   "cell_type": "code",
   "execution_count": null,
   "metadata": {
    "ExecuteTime": {
     "end_time": "2021-10-20T23:10:21.792131Z",
     "start_time": "2021-10-20T23:10:21.779885Z"
    }
   },
   "outputs": [],
   "source": [
    "def recordMergeCommit(commit_sha):\n",
    "    try:\n",
    "        query = \"\"\"insert into merge_commits (commit_sha) \n",
    "            values(%s)\"\"\"\n",
    "        \n",
    "        connection = connectDB()\n",
    "        cursor = connection.cursor()\n",
    "        cursor.execute(query, [commit_sha])\n",
    "        connection.commit()\n",
    "        connection.close()\n",
    "    except Exception as e:\n",
    "        print (\"==============================================================\")\n",
    "        print (\"Error while recordMergeCommit >>> Exception: {}\".format(e)) \n",
    "        print('Commit: {}'.format(commit_sha))"
   ]
  },
  {
   "cell_type": "code",
   "execution_count": null,
   "metadata": {
    "ExecuteTime": {
     "end_time": "2021-10-20T23:10:24.349968Z",
     "start_time": "2021-10-20T23:10:24.341455Z"
    }
   },
   "outputs": [],
   "source": [
    "def checkProjectMined(repo_name, mined):\n",
    "    try:\n",
    "        query = \"\"\"UPDATE  PROJECTS \n",
    "            set commits_mined = %s,\n",
    "            comments_mined = %s\n",
    "            WHERE repo_name like %s\"\"\"\n",
    "        \n",
    "        connection = connectDB()\n",
    "        cursor = connection.cursor()\n",
    "        cursor.execute(query, [mined,mined,repo_name])\n",
    "        connection.commit()\n",
    "        connection.close()\n",
    "    except Exception as e:\n",
    "        print (\"==============================================================\")\n",
    "        print (\"Error while checkProjectMined >>> Exception: {}\".format(e)) \n",
    "        print('Project: {}    PR - {}  '.format(repo_name, pr_number))"
   ]
  },
  {
   "cell_type": "code",
   "execution_count": null,
   "metadata": {
    "ExecuteTime": {
     "end_time": "2021-10-20T23:09:57.131704Z",
     "start_time": "2021-10-20T23:09:57.127496Z"
    }
   },
   "outputs": [],
   "source": [
    "def checkPRMined(project_name,pr_number):\n",
    "    try:\n",
    "        query = \"\"\"UPDATE  PULLREQUESTS \n",
    "            set mined1 = True\n",
    "            WHERE project_name like %s and pr_number = %s;\"\"\"\n",
    "\n",
    "        connection = connectDB()\n",
    "        cursor = connection.cursor()\n",
    "        cursor.execute(query, [repo_name,pr_number])\n",
    "        connection.commit()\n",
    "        connection.close()\n",
    "    except Exception as e:\n",
    "        print (\"==============================================================\")\n",
    "        print (\"Error while checkPRMined >>> Exception: {}\".format(e)) \n",
    "        print('Project: {}    PR - {}  '.format(repo_name, pr_number))"
   ]
  },
  {
   "cell_type": "code",
   "execution_count": null,
   "metadata": {
    "ExecuteTime": {
     "end_time": "2021-10-20T23:09:57.388274Z",
     "start_time": "2021-10-20T23:09:57.376849Z"
    }
   },
   "outputs": [],
   "source": [
    "def storeAuthor(author):\n",
    "    connection = connectDB()\n",
    "    cursor = connection.cursor()\n",
    "\n",
    "    query = \"\"\"SELECT * FROM gh_User WHERE id = \"\"\"+str(author['id'])\n",
    "    cursor.execute(query)\n",
    "    row = cursor.fetchone()\n",
    "    connection.commit()\n",
    "    if row is not None:  \n",
    "        return\n",
    "        \n",
    "    cursor_insert = connection.cursor()\n",
    "    query = \"\"\"INSERT INTO gh_User (id,events_url, followers_url, login, organizations_url, repos_url,starred_url, subscriptions_url,user_type) \n",
    "    VALUES(%s,%s,%s,%s,%s,%s,%s,%s,%s)\"\"\"\n",
    "        \n",
    "    cursor_insert = connection.cursor()\n",
    "    cursor_insert.execute(query, [author['id'],author['events_url'],author['followers_url'],author['login'],author['organizations_url'],author['repos_url'],author['starred_url'],author['subscriptions_url'],author['type']])\n",
    "    connection.commit()\n",
    "    connection.close()\n"
   ]
  },
  {
   "cell_type": "code",
   "execution_count": null,
   "metadata": {
    "ExecuteTime": {
     "end_time": "2021-10-20T23:09:51.300556Z",
     "start_time": "2021-10-20T23:09:51.281620Z"
    }
   },
   "outputs": [],
   "source": [
    "def storeMessage(message,repo_name, pr_number):      \n",
    "    try:\n",
    "        query = \"\"\"INSERT INTO messages (pr_number,project_name,url,html_url,id_message,node_id,body,user_id, created_at) \n",
    "        VALUES(%s,%s,%s,%s,%s,%s,%s,%s,%s)\"\"\"\n",
    "\n",
    "        if message['user'] is not None and len(message['user']) > 0:\n",
    "            commit_id = message['user']['id']\n",
    "        else:\n",
    "            commit_id = None\n",
    "\n",
    "        connection = connectDB()\n",
    "        cursor_insert = connection.cursor()\n",
    "        cursor_insert.execute(query, [str(pr_number), repo_name, message['url'],message['html_url'],message['id'],message['node_id'],message['body'],commit_id,str(message['created_at'])])\n",
    "        connection.commit()\n",
    "        connection.close()\n",
    "    except Exception as e:\n",
    "        print (\"==============================================================\")\n",
    "        print (\"Error while storeMessage >>> Exception: {}\".format(e)) \n",
    "        print('Project: {}    PR - {}  Message: {} '.format(repo_name, pr_number,message['id']))"
   ]
  },
  {
   "cell_type": "code",
   "execution_count": null,
   "metadata": {
    "ExecuteTime": {
     "end_time": "2021-10-20T23:09:44.158335Z",
     "start_time": "2021-10-20T23:09:44.135297Z"
    }
   },
   "outputs": [],
   "source": [
    "def setCommunication(repo_name, pr_number, comments_url, review_comments_url):\n",
    "    try:\n",
    "        print('+ Project: {}    PR - {}'.format(repo_name, pr_number))\n",
    "        \n",
    "        messages = requestAPI(comments_url)\n",
    "        if messages is not None:\n",
    "            qtycomments = len(messages)\n",
    "            print('....Comments: {}'.format(qtycomments))\n",
    "            \n",
    "            for m in messages:\n",
    "                if m['user'] is not None and len(m['user']) > 0:\n",
    "                    storeAuthor(m['user'])\n",
    "                storeMessage(m,repo_name, pr_number)\n",
    "        else:\n",
    "            qtycomments = 0\n",
    "    except psycopg2.IntegrityError as e:\n",
    "        print (\"==============================================================\")\n",
    "        print (\"Error while inserting into PostgreSQL. setCommunication >>> Exception: {}\".format(e)) \n",
    "        print('Project: {}    PR - {} '.format(repo_name, pr_number))\n",
    "        #return False\n",
    "    except Exception as e:\n",
    "        print (\"==============================================================\")\n",
    "        print (\"Error while processing setCommunication >>> Exception: {}\".format(e)) \n",
    "        print('Project: {}    PR - {}  '.format(repo_name, pr_number))\n",
    "        return False\n",
    "            \n",
    "    try:\n",
    "        rev_messages = requestAPI(review_comments_url)\n",
    "        if rev_messages is not None:\n",
    "            qtyrevcomments = len(rev_messages)\n",
    "            print('....Review Comments: {}'.format(qtyrevcomments))\n",
    "\n",
    "            for m in rev_messages:\n",
    "                if m['user'] is not None and len(m['user']) > 0:\n",
    "                    storeAuthor(m['user'])\n",
    "                storeMessage(m,repo_name, pr_number)\n",
    "        else:\n",
    "            qtyrevcomments = 0\n",
    "    except psycopg2.IntegrityError as e:\n",
    "        print (\"==============================================================\")\n",
    "        print (\"Error while inserting into PostgreSQL. setCommunication >>> Exception: {}\".format(e)) \n",
    "        print('Project: {}    PR - {} '.format(repo_name, pr_number))\n",
    "        #return False\n",
    "    except Exception as e:\n",
    "        print (\"==============================================================\")\n",
    "        print (\"Error while processing setCommunication >>> Exception: {}\".format(e)) \n",
    "        print('Project: {}    PR - {}  '.format(repo_name, pr_number))\n",
    "        return False\n",
    "    \n",
    "    try:\n",
    "        query = \"\"\"UPDATE  PULLREQUESTS \n",
    "            set \"Comments\" = %s,\n",
    "            review_comments = %s\n",
    "            WHERE project_name like %s and pr_number = %s;\"\"\"\n",
    "        \n",
    "        print('....Updating pullrequest: UPDATE  PULLREQUESTS set \"Comments\" = {}, review_comments = {} WHERE project_name like {} and id = {};'.format(qtycomments, qtyrevcomments,repo_name,pr_number))\n",
    "\n",
    "        connection = connectDB()\n",
    "        cursor = connection.cursor()\n",
    "        cursor.execute(query, [qtycomments, qtyrevcomments,repo_name,pr_number])\n",
    "        connection.commit()\n",
    "        connection.close()\n",
    "    except psycopg2.IntegrityError as e:\n",
    "        print (\"==============================================================\")\n",
    "        print (\"Error while inserting into PostgreSQL. setCommunication >>> Exception: {}\".format(e)) \n",
    "        print('Project: {}    PR - {} '.format(repo_name, pr_number))\n",
    "        connection.close()\n",
    "        connection = connectDB()\n",
    "        return False\n",
    "    except Exception as e:\n",
    "        print (\"==============================================================\")\n",
    "        print (\"Error while processing setCommunication >>> Exception: {}\".format(e)) \n",
    "        print('Project: {}    PR - {}  '.format(repo_name, pr_number))\n",
    "        return False\n",
    "    \n",
    "    return True\n",
    "        "
   ]
  },
  {
   "cell_type": "code",
   "execution_count": null,
   "metadata": {},
   "outputs": [],
   "source": [
    "def loadTokens():\n",
    "    f = open('/home/gh_tokens.txt', \"r\")\n",
    "    tokens =[]\n",
    "    tk = f.readline().replace('\\n','')\n",
    "    while tk != '':\n",
    "        tokens.append(tk)\n",
    "        tk = f.readline().replace('\\n','')\n",
    "\n",
    "    f.close()\n",
    "    return tokens"
   ]
  },
  {
   "cell_type": "code",
   "execution_count": null,
   "metadata": {
    "ExecuteTime": {
     "end_time": "2021-10-20T19:18:22.352337Z",
     "start_time": "2021-10-20T19:18:22.332507Z"
    }
   },
   "outputs": [],
   "source": [
    "tokens = loadTokens()\n",
    "i_token =0\n",
    "\n",
    "\n",
    "def requestAPI(URL):\n",
    "    # api-endpoint \n",
    "    global i_token\n",
    "    \n",
    "    if (len(tokens)-1) > i_token:\n",
    "        i_token += 1\n",
    "    else:\n",
    "        i_token = 0\n",
    "        \n",
    "    r = requests.get(url = URL, headers={'Authorization': tokens[i_token],'Accept':'application/vnd.github.cloak-preview'}).json()\n",
    "    if len(r) > 0:\n",
    "        try:\n",
    "            #print('keys: {}'.format(r.keys()))\n",
    "            \n",
    "            if isinstance(r, dict) and 'message' in r.keys():\n",
    "                print('{} -- {}'.format(datetime.now().strftime(\"%H:%M:%S\"),r['message']))\n",
    "                if 'API rate limit exceeded' in r['message']:\n",
    "                    time.sleep(600)\n",
    "                    requestAPI(URL)\n",
    "                else:\n",
    "                    return None\n",
    "\n",
    "            return r\n",
    "        except Exception as e:\n",
    "            print('\\n Erro no request get: {}'.format(e))\n",
    "            print(r)\n",
    "    else:\n",
    "        return None"
   ]
  },
  {
   "cell_type": "code",
   "execution_count": null,
   "metadata": {},
   "outputs": [],
   "source": []
  },
  {
   "cell_type": "code",
   "execution_count": null,
   "metadata": {},
   "outputs": [],
   "source": []
  },
  {
   "cell_type": "code",
   "execution_count": null,
   "metadata": {},
   "outputs": [],
   "source": []
  },
  {
   "cell_type": "code",
   "execution_count": null,
   "metadata": {},
   "outputs": [],
   "source": []
  }
 ],
 "metadata": {
  "kernelspec": {
   "display_name": "Python 3 (ipykernel)",
   "language": "python",
   "name": "python3"
  },
  "language_info": {
   "codemirror_mode": {
    "name": "ipython",
    "version": 3
   },
   "file_extension": ".py",
   "mimetype": "text/x-python",
   "name": "python",
   "nbconvert_exporter": "python",
   "pygments_lexer": "ipython3",
   "version": "3.8.15"
  }
 },
 "nbformat": 4,
 "nbformat_minor": 4
}
