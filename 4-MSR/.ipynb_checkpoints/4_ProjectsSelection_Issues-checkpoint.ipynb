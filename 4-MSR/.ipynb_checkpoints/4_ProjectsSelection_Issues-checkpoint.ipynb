{
 "cells": [
  {
   "cell_type": "markdown",
   "metadata": {},
   "source": [
    "### Identify projects with activity in every months for analysis period\n",
    "\n",
    "Filter projects (prs_selected is true) with (for each analysis month):\n",
    "* 1 closed issue"
   ]
  },
  {
   "cell_type": "code",
   "execution_count": 29,
   "metadata": {
    "ExecuteTime": {
     "end_time": "2021-10-20T19:05:08.590165Z",
     "start_time": "2021-10-20T19:05:01.713291Z"
    },
    "scrolled": true
   },
   "outputs": [
    {
     "name": "stdout",
     "output_type": "stream",
     "text": [
      "Project: antvis/L7  -  Init: 2019-08-13 06:49:11-03:00 - End: 2021-09-04 08:45:47-03:00\n",
      "Project: atmos/heaven  -  Init: 2014-02-26 03:35:52-03:00 - End: 2019-01-08 05:39:13-03:00\n",
      "Project: catarse/catarse  -  Init: 2012-12-04 17:34:31-03:00 - End: 2019-02-01 23:29:23-03:00\n",
      "Project: github/developer.github.com  -  Init: 2015-11-02 06:35:04-03:00 - End: 2017-10-11 20:18:38-03:00\n",
      "Project: gpac/gpac  -  Init: 2015-03-10 06:07:59-03:00 - End: 2021-09-02 12:56:23-03:00\n",
      "Project: graphiti-api/graphiti  -  Init: 2019-01-06 16:34:11-03:00 - End: 2021-09-02 04:18:00-03:00\n",
      "Project: hyperhq/hyperd  -  Init: 2015-08-14 06:17:40-03:00 - End: 2018-12-23 21:00:40-03:00\n",
      "Project: idehub/react-native-google-analytics-bridge  -  Init: 2016-07-16 11:02:00-03:00 - End: 2019-03-08 13:34:35-03:00\n",
      "Months: 12  -  Issues: 31  -  Project: idehub/react-native-google-analytics-bridge\n",
      "Project: infernojs/inferno  -  Init: 2015-11-23 12:36:30-03:00 - End: 2021-08-15 23:57:25-03:00\n",
      "Project: intelsdi-x/snap  -  Init: 2014-09-12 14:11:37-03:00 - End: 2020-04-03 16:56:11-03:00\n",
      "Project: jverkoey/nimbus  -  Init: 2019-02-25 14:55:29-03:00 - End: 2020-07-09 18:15:01-03:00\n",
      "Project: paritytech/parity-bitcoin  -  Init: 2016-10-14 10:02:16-03:00 - End: 2020-10-11 21:28:25-03:00\n",
      "Project: shadowsocks/shadowsocks-android  -  Init: 2015-10-03 09:53:57-03:00 - End: 2021-09-04 06:56:47-03:00\n",
      "Project: sunjay/turtle  -  Init: 2017-11-30 12:16:59-03:00 - End: 2021-08-29 08:04:13-03:00\n",
      "Project: theseus-os/Theseus  -  Init: 2018-03-02 20:18:58-03:00 - End: 2021-08-26 14:08:24-03:00\n"
     ]
    }
   ],
   "source": [
    "repos = getProjects()\n",
    "\n",
    "for repo in repos:    \n",
    "    project = repo[0]\n",
    "    init_period = repo[1]\n",
    "    ci_service = repo[2]\n",
    "    \n",
    "    '''\n",
    "    if ci_service is not None:\n",
    "        \n",
    "        previous_period = classifyProjectPR(project,analysisPoint,-1,-12)\n",
    "        following_period = classifyProjectPR(project,analysisPoint,1,12)\n",
    "\n",
    "        if previous_period is not None and following_period is not None:\n",
    "            prs_period = countPRsPeriod(project,previous_period,following_period)\n",
    "            setRQ2Classification(project,True,24,prs_period,previous_period,following_period)\n",
    "            setRQ2Classification(project)\n",
    "            print('PRs: {}  -  Project: {} - Init: {} - Finish: {}'.format(prs_period,project,previous_period,following_period))\n",
    "        \n",
    "        \n",
    "    else:\n",
    "    '''    \n",
    "        \n",
    "    end_period = getLastIssueDate(project)\n",
    "    print('Project: {}  -  Init: {} - End: {}'.format(project,init_period,end_period))\n",
    "    identifyIssuesActivity(project,init_period,end_period)"
   ]
  },
  {
   "cell_type": "code",
   "execution_count": null,
   "metadata": {},
   "outputs": [],
   "source": []
  },
  {
   "cell_type": "code",
   "execution_count": 22,
   "metadata": {
    "ExecuteTime": {
     "end_time": "2021-10-20T13:50:13.795294Z",
     "start_time": "2021-10-20T13:50:13.776051Z"
    }
   },
   "outputs": [],
   "source": [
    "def identifyIssuesActivity(project,init,finish):\n",
    "    search_date = analysis_init_date = init\n",
    "    analysis_finish_date = None\n",
    "    increment=1\n",
    "    period = total_issues = 0\n",
    "    \n",
    "    while search_date <= finish:\n",
    "        \n",
    "        issues = selectIssues(project,search_date.month,search_date.year)\n",
    "        if issues[0]>0:\n",
    "            period += 1\n",
    "            total_issues += issues[0]\n",
    "            \n",
    "        else:    \n",
    "            break\n",
    "             \n",
    "                \n",
    "        search_date = init + relativedelta(months=increment)\n",
    "        increment +=1\n",
    "        \n",
    "        if search_date.month == finish.month and search_date.year == finish.year:\n",
    "            search_date = finish\n",
    "    \n",
    "    if period > 11:\n",
    "        print('Months: {}  -  Issues: {}  -  Project: {}'.format(period,total_issues,project))\n",
    "        setIssuesClassification(project,True,period,total_issues)\n",
    "    else:\n",
    "        setIssuesClassification(project,False,period,total_issues)"
   ]
  },
  {
   "cell_type": "markdown",
   "metadata": {},
   "source": [
    "### Aux Functions"
   ]
  },
  {
   "cell_type": "code",
   "execution_count": 2,
   "metadata": {
    "ExecuteTime": {
     "end_time": "2021-10-20T13:01:42.963865Z",
     "start_time": "2021-10-20T13:01:41.251944Z"
    }
   },
   "outputs": [
    {
     "data": {
      "text/plain": [
       "{'divide': 'warn', 'over': 'warn', 'under': 'ignore', 'invalid': 'warn'}"
      ]
     },
     "execution_count": 2,
     "metadata": {},
     "output_type": "execute_result"
    }
   ],
   "source": [
    "import psycopg2\n",
    "import os\n",
    "import requests \n",
    "import time\n",
    "import pytz    \n",
    "from datetime import datetime, timedelta\n",
    "from dateutil.relativedelta import relativedelta\n",
    "import pandas as pd\n",
    "from scipy import stats\n",
    "import numpy as np\n",
    "np.seterr(divide='ignore', invalid='ignore')"
   ]
  },
  {
   "cell_type": "code",
   "execution_count": 3,
   "metadata": {
    "ExecuteTime": {
     "end_time": "2021-10-20T13:01:42.969213Z",
     "start_time": "2021-10-20T13:01:42.965677Z"
    }
   },
   "outputs": [],
   "source": [
    "def connectDB():\n",
    "    f = open('/home/elieziosoares/psql_pwd.txt', \"r\")\n",
    "    pwd = f.readline().replace('\\n','')\n",
    "    \n",
    "    return psycopg2.connect(user = \"postgres\",\n",
    "                              password = pwd,\n",
    "                              host = \"127.0.0.1\",\n",
    "                              port = \"5432\",\n",
    "                              database = \"Causal_CI_Quality_v3\")"
   ]
  },
  {
   "cell_type": "code",
   "execution_count": 28,
   "metadata": {
    "ExecuteTime": {
     "end_time": "2021-10-20T19:04:50.236270Z",
     "start_time": "2021-10-20T19:04:50.228967Z"
    }
   },
   "outputs": [],
   "source": [
    "def getProjects():\n",
    "    query = \"\"\"SELECT repo_name, analysis_init,ci_service From PROJECTS WHERE prs_SELECTED is True and issues_selected is not true ORDER BY repo_name\"\"\"\n",
    "\n",
    "    connection = connectDB()\n",
    "    cursor = connection.cursor()\n",
    "    cursor.execute(query)\n",
    "    result = cursor.fetchall()\n",
    "    connection.close()\n",
    "    return result"
   ]
  },
  {
   "cell_type": "code",
   "execution_count": 1,
   "metadata": {
    "ExecuteTime": {
     "end_time": "2021-10-20T13:01:36.254830Z",
     "start_time": "2021-10-20T13:01:36.248379Z"
    }
   },
   "outputs": [],
   "source": [
    "def selectIssues(project,month,year):\n",
    "    connection = connectDB()\n",
    "    cursor = connection.cursor()\n",
    "    \n",
    "    query = \"\"\"select COUNT(ID) from issue where  \n",
    "        date_part('month', created_at) = %s\n",
    "        AND date_part('year', created_at) = %s \n",
    "        AND repo_name like %s\"\"\"\n",
    "\n",
    "    cursor.execute(query, [month,year,project])\n",
    "    row = cursor.fetchone()\n",
    "    \n",
    "    cursor.close()\n",
    "    connection.close()\n",
    "    return row"
   ]
  },
  {
   "cell_type": "code",
   "execution_count": 25,
   "metadata": {
    "ExecuteTime": {
     "end_time": "2021-10-20T13:51:05.244796Z",
     "start_time": "2021-10-20T13:51:05.239691Z"
    }
   },
   "outputs": [],
   "source": [
    "def setIssuesClassification(repo_name,classification,period_max,qtd_issues_in_period):\n",
    "    query = \"\"\"UPDATE  projects \n",
    "        set issues_selected = %s,\n",
    "        qtd_issues_months = %s,\n",
    "        qtd_issues_in_period = %s\n",
    "        WHERE repo_name like %s\"\"\"\n",
    "\n",
    "    connection = connectDB()\n",
    "    cursor = connection.cursor()\n",
    "    cursor.execute(query, [classification,period_max,qtd_issues_in_period,repo_name])\n",
    "    connection.commit()\n",
    "    cursor.close()\n",
    "    connection.close()"
   ]
  },
  {
   "cell_type": "code",
   "execution_count": 14,
   "metadata": {
    "ExecuteTime": {
     "end_time": "2021-10-20T13:06:41.524909Z",
     "start_time": "2021-10-20T13:06:41.508715Z"
    }
   },
   "outputs": [],
   "source": [
    "def getLastIssueDate(project):\n",
    "    connection = connectDB()\n",
    "    cursor = connection.cursor()\n",
    "    \n",
    "    query = \"\"\"SELECT created_at from issue where  \n",
    "        repo_name like %s AND created_at is not NULL\n",
    "        order by created_at desc limit 1;\"\"\"\n",
    "\n",
    "    cursor.execute(query, [project])\n",
    "    row = cursor.fetchone()\n",
    "    \n",
    "    cursor.close()\n",
    "    connection.close()\n",
    "    if row is not None:\n",
    "        return row[0]\n",
    "    else:\n",
    "        return None"
   ]
  },
  {
   "cell_type": "code",
   "execution_count": 12,
   "metadata": {
    "ExecuteTime": {
     "end_time": "2021-10-20T13:06:13.399698Z",
     "start_time": "2021-10-20T13:06:13.395207Z"
    }
   },
   "outputs": [],
   "source": [
    "def selectLastIssueMonth(project,month,year):\n",
    "    connection = connectDB()\n",
    "    cursor = connection.cursor()\n",
    "    \n",
    "    query = \"\"\"SELECT closed_at from issue where  \n",
    "        date_part('month', created_at) = %s\n",
    "        AND date_part('year', created_at) = %s \n",
    "        AND repo_name like %s\n",
    "        order by closed_at desc limit 1;\"\"\"\n",
    "\n",
    "    cursor.execute(query, [month,year,project])\n",
    "    row = cursor.fetchone()\n",
    "    \n",
    "    cursor.close()\n",
    "    connection.close()\n",
    "    if row is not None:\n",
    "        return row[0]\n",
    "    else:\n",
    "        return None"
   ]
  },
  {
   "cell_type": "code",
   "execution_count": 13,
   "metadata": {
    "ExecuteTime": {
     "end_time": "2021-10-20T13:06:21.254945Z",
     "start_time": "2021-10-20T13:06:21.249655Z"
    }
   },
   "outputs": [],
   "source": [
    "def getFirstIssueDate(project):\n",
    "    connection = connectDB()\n",
    "    cursor = connection.cursor()\n",
    "    \n",
    "    query = \"\"\"SELECT created_at from issue where  \n",
    "        repo_name like %s\n",
    "        order by created_at limit 1;\"\"\"\n",
    "\n",
    "    cursor.execute(query, [project])\n",
    "    row = cursor.fetchone()\n",
    "    \n",
    "    cursor.close()\n",
    "    connection.close()\n",
    "    if row is not None:\n",
    "        return row[0]\n",
    "    else:\n",
    "        return None"
   ]
  },
  {
   "cell_type": "code",
   "execution_count": 8,
   "metadata": {
    "ExecuteTime": {
     "end_time": "2021-10-20T13:01:43.020267Z",
     "start_time": "2021-10-20T13:01:43.014894Z"
    }
   },
   "outputs": [],
   "source": [
    "def selectFirstIssueMonth(project,date):\n",
    "#def selectFirstPRMonth(project,month,year):\n",
    "    connection = connectDB()\n",
    "    cursor = connection.cursor()\n",
    "    \n",
    "    #query = \"\"\"SELECT closed_at from pullrequests where  \n",
    "    #    date_part('month', closed_at) = %s\n",
    "    #    AND date_part('year', closed_at) = %s \n",
    "    #    AND project_name like %s\n",
    "    #    order by closed_at limit 1;\"\"\"\n",
    "    \n",
    "    #cursor.execute(query, [month,year,project])\n",
    "    \n",
    "    query = \"\"\"SELECT closed_at from issue where  \n",
    "        closed_at >= %s\n",
    "        AND repo_name like %s\n",
    "        order by closed_at limit 1;\"\"\"\n",
    "\n",
    "    cursor.execute(query, [date,project])\n",
    "    row = cursor.fetchone()\n",
    "    \n",
    "    cursor.close()\n",
    "    connection.close()\n",
    "    if row is not None:\n",
    "        return row[0]\n",
    "    else:\n",
    "        return None"
   ]
  },
  {
   "cell_type": "code",
   "execution_count": 15,
   "metadata": {
    "ExecuteTime": {
     "end_time": "2021-10-20T13:06:53.609906Z",
     "start_time": "2021-10-20T13:06:53.596089Z"
    }
   },
   "outputs": [],
   "source": [
    "def selectIssues(project,month,year):\n",
    "    connection = connectDB()\n",
    "    cursor = connection.cursor()\n",
    "    \n",
    "    query = \"\"\"SELECT COUNT(ID) from issue where  \n",
    "        date_part('month', created_at) = %s\n",
    "        AND date_part('year', created_at) = %s \n",
    "        AND repo_name like %s\"\"\"\n",
    "\n",
    "    cursor.execute(query, [month,year,project])\n",
    "    row = cursor.fetchone()\n",
    "    \n",
    "    cursor.close()\n",
    "    connection.close()\n",
    "    return row"
   ]
  },
  {
   "cell_type": "code",
   "execution_count": null,
   "metadata": {},
   "outputs": [],
   "source": []
  }
 ],
 "metadata": {
  "kernelspec": {
   "display_name": "Python 3",
   "language": "python",
   "name": "python3"
  },
  "language_info": {
   "codemirror_mode": {
    "name": "ipython",
    "version": 3
   },
   "file_extension": ".py",
   "mimetype": "text/x-python",
   "name": "python",
   "nbconvert_exporter": "python",
   "pygments_lexer": "ipython3",
   "version": "3.8.3"
  }
 },
 "nbformat": 4,
 "nbformat_minor": 4
}
