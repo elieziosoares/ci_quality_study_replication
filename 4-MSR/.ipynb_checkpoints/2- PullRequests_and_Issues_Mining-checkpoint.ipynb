{
 "cells": [
  {
   "cell_type": "markdown",
   "metadata": {},
   "source": [
    "### 1- Mine pull requests and issues from projects\n",
    "\n",
    "For each project:\n",
    "* get pull requests and save into database.\n",
    "* get issues and labels and save into database.\n",
    "\n",
    "Projects Selection:\n",
    " - qtd_stars >= 100\n",
    " - forked is false\n",
    " - size  > 10000\n",
    " - ci_service is null or (ci_service like 'Travis CI' and analysis_point is not null)"
   ]
  },
  {
   "cell_type": "code",
   "execution_count": null,
   "metadata": {
    "ExecuteTime": {
     "start_time": "2022-01-21T19:34:05.852Z"
    },
    "scrolled": true
   },
   "outputs": [
    {
     "name": "stdout",
     "output_type": "stream",
     "text": [
      "\n",
      "\n",
      "\n",
      "1/1 Project - SimpleMobileTools/Simple-Gallery\n",
      "\n",
      "\n",
      "\n",
      "+ Project: SimpleMobileTools/Simple-Gallery\n"
     ]
    }
   ],
   "source": [
    "repos = getProjects()\n",
    "i=0\n",
    "for repo in repos:\n",
    "    project = repo[0]\n",
    "    i += 1\n",
    "    print('\\n\\n\\n{}/{} Project - {}\\n\\n\\n'.format(i,len(repos),project))\n",
    "    \n",
    "    #qPullRequests = 'https://api.github.com/repos/{}/pulls?state=all&sort=created&direction=asc&per_page=100&page='.format(project)\n",
    "    #minePRs(project,qPullRequests)\n",
    "    #setProjectPRMined(project)\n",
    "    \n",
    "    #qIssues = 'https://api.github.com/repos/{}/issues?state=all&filter=all&sort=created&direction=asc&per_page=100&page='.format(project)\n",
    "    #mineIssues(project,qIssues)\n",
    "    #setProjectIssueMined(project)\n",
    "    \n",
    "    saveCreationDate(project)"
   ]
  },
  {
   "cell_type": "markdown",
   "metadata": {},
   "source": [
    "### Aux Functions"
   ]
  },
  {
   "cell_type": "code",
   "execution_count": 4,
   "metadata": {
    "ExecuteTime": {
     "end_time": "2022-01-21T19:33:48.748292Z",
     "start_time": "2022-01-21T19:33:48.238554Z"
    }
   },
   "outputs": [
    {
     "data": {
      "text/plain": [
       "{'divide': 'warn', 'over': 'warn', 'under': 'ignore', 'invalid': 'warn'}"
      ]
     },
     "execution_count": 4,
     "metadata": {},
     "output_type": "execute_result"
    }
   ],
   "source": [
    "import psycopg2\n",
    "import os\n",
    "import requests \n",
    "import time\n",
    "from datetime import datetime, timedelta\n",
    "import pandas as pd\n",
    "from scipy import stats\n",
    "import numpy as np\n",
    "np.seterr(divide='ignore', invalid='ignore')"
   ]
  },
  {
   "cell_type": "code",
   "execution_count": 5,
   "metadata": {
    "ExecuteTime": {
     "end_time": "2022-01-21T19:33:48.754029Z",
     "start_time": "2022-01-21T19:33:48.750929Z"
    }
   },
   "outputs": [],
   "source": [
    "def connectDB():\n",
    "    f = open('/home/elieziosoares/psql_pwd.txt', \"r\")\n",
    "    pwd = f.readline().replace('\\n','')\n",
    "    \n",
    "    return psycopg2.connect(user = \"postgres\",\n",
    "                              password = pwd,\n",
    "                              host = \"127.0.0.1\",\n",
    "                              port = \"5432\",\n",
    "                              database = \"Causal_CI_Quality_v3\")"
   ]
  },
  {
   "cell_type": "code",
   "execution_count": 3,
   "metadata": {
    "ExecuteTime": {
     "end_time": "2021-09-06T12:44:08.685217Z",
     "start_time": "2021-09-06T12:44:08.677292Z"
    }
   },
   "outputs": [],
   "source": [
    "def minePRs(project,url):\n",
    "    page = 1\n",
    "    prs= requestAPI(url+str(page))\n",
    "    \n",
    "    while prs is not None and len(prs) > 0:\n",
    "        #processPRs(prs)\n",
    "        try:\n",
    "            for pr in prs:\n",
    "                print('+ Project: {}    PR - {}'.format(project, pr['id']))\n",
    "                storePR(project,pr)\n",
    "        \n",
    "        except Exception as e:\n",
    "            print('\\n\\n==============================================================')\n",
    "            print('Error while processing storePR >>> Exception: {}'.format(e)) \n",
    "            print('Project: {}    PR - {}\\n\\n'.format(project, url+str(page)))\n",
    "        \n",
    "        page += 1\n",
    "        prs= requestAPI(url+str(page))"
   ]
  },
  {
   "cell_type": "code",
   "execution_count": 4,
   "metadata": {
    "ExecuteTime": {
     "end_time": "2021-09-06T12:44:08.731482Z",
     "start_time": "2021-09-06T12:44:08.690766Z"
    }
   },
   "outputs": [],
   "source": [
    "def mineIssues(project,url):\n",
    "    page = 1\n",
    "    issues= requestAPI(url+str(page))\n",
    "    \n",
    "    while issues is not None and len(issues) > 0:\n",
    "        try:\n",
    "            for issue in issues:\n",
    "                print('+ Project: {}    Issue - {}'.format(project, issue['id']))\n",
    "                storeIssue(project,issue)\n",
    "                \n",
    "                #Get and save Labels\n",
    "                saveIssueLabels(project,issue['number'],issue['url'])\n",
    "        \n",
    "        except Exception as e:\n",
    "            print('\\n\\n==============================================================')\n",
    "            print('Error while processing storeIssue >>> Exception: {}'.format(e)) \n",
    "            print('Project: {}    PR - {}\\n\\n'.format(project, url+str(page)))\n",
    "        \n",
    "        page += 1\n",
    "        issues= requestAPI(url+str(page))"
   ]
  },
  {
   "cell_type": "code",
   "execution_count": 5,
   "metadata": {
    "ExecuteTime": {
     "end_time": "2021-09-06T12:44:08.757901Z",
     "start_time": "2021-09-06T12:44:08.734200Z"
    }
   },
   "outputs": [],
   "source": [
    "def saveIssueLabels(repo_name, issue_number, issue_url):\n",
    "    try:\n",
    "        print('+ Project: {}    issue - {}'.format(repo_name, issue_number))\n",
    "        \n",
    "        labels = requestAPI(issue_url+'/labels')\n",
    "        if labels is None: return\n",
    "        \n",
    "        for l in labels:\n",
    "            storeLabel(l,repo_name, issue_number)\n",
    "        \n",
    "    except Exception as e:\n",
    "        print('==============================================================')\n",
    "        print('Error while processing saveIssueLabels >>> Exception: {}'.format(e)) \n",
    "        print('Project: {}    issue - {}'.format(repo_name, issue_number))"
   ]
  },
  {
   "cell_type": "code",
   "execution_count": 6,
   "metadata": {
    "ExecuteTime": {
     "end_time": "2022-01-21T19:33:59.005855Z",
     "start_time": "2022-01-21T19:33:58.992487Z"
    }
   },
   "outputs": [],
   "source": [
    "def saveCreationDate(repo_name):\n",
    "    try:\n",
    "        print('+ Project: {}'.format(repo_name))\n",
    "    \n",
    "        \n",
    "        project = requestAPI('https://api.github.com/repos/{}'.format(repo_name))\n",
    "        creation = project['created_at']\n",
    "        if creation is None: return\n",
    "        \n",
    "        updateRepo(repo_name, creation)\n",
    "        \n",
    "    except Exception as e:\n",
    "        print('==============================================================')\n",
    "        print('Error while processing saveIssueLabels >>> Exception: {}'.format(e)) \n",
    "        print('Project: {}'.format(repo_name))"
   ]
  },
  {
   "cell_type": "code",
   "execution_count": 6,
   "metadata": {
    "ExecuteTime": {
     "end_time": "2021-09-06T12:44:08.804961Z",
     "start_time": "2021-09-06T12:44:08.760414Z"
    }
   },
   "outputs": [],
   "source": [
    "def storeIssue(repo_name, issue):\n",
    "    connection = connectDB()\n",
    "    cursor = connection.cursor()\n",
    "    \n",
    "    query = \"\"\"INSERT INTO public.issue(\n",
    "    id, issue_number, url, repo_url, labels_url, comments_url, events_url, html_url, node_id, title, state, locked, \n",
    "    comments, created_at, updated_at, closed_at, author_association, body, repo_name)\n",
    "    VALUES (%s,%s,%s,%s,%s,%s,%s,%s,%s,%s,%s,%s,%s,%s,%s,%s,%s,%s,%s);\"\"\"\n",
    "    \n",
    "    cursor.execute(query, [issue['id'],issue['number'],issue['url'],issue['repository_url'],issue['labels_url'],issue['comments_url'],\n",
    "                           issue['events_url'],issue['html_url'],issue['node_id'],issue['title'],issue['state'],\n",
    "                           issue['locked'],issue['comments'],issue['created_at'],issue['updated_at'],issue['closed_at'],\n",
    "                           issue['author_association'],issue['body'],repo_name])\n",
    "    connection.commit()\n",
    "    \n",
    "    cursor.close()\n",
    "    connection.close()"
   ]
  },
  {
   "cell_type": "code",
   "execution_count": 7,
   "metadata": {
    "ExecuteTime": {
     "end_time": "2021-09-06T12:44:08.829684Z",
     "start_time": "2021-09-06T12:44:08.808018Z"
    }
   },
   "outputs": [],
   "source": [
    "def storeLabel(label,repo_name, issue_number):\n",
    "    connection = connectDB()\n",
    "    cursor = connection.cursor()\n",
    "    \n",
    "    query = \"\"\"SELECT idlabel FROM label WHERE idlabel = %s\"\"\"\n",
    "    cursor.execute(query, [label['id']])\n",
    "    row = cursor.fetchone()\n",
    "    \n",
    "    if row is None: \n",
    "        query = \"\"\"INSERT INTO Label (idlabel,name,label_default,description,url) VALUES(%s,%s,%s,%s,%s)\"\"\"\n",
    "        \n",
    "        cursor.execute(query, [label['id'],label['name'],label['default'],label['description'],label['url']])\n",
    "        connection.commit()\n",
    "    \n",
    "    query = \"\"\"INSERT INTO issueLabel (issue_number,repo_name,idlabel) VALUES(%s,%s,%s)\"\"\"\n",
    "    cursor.execute(query, [issue_number,repo_name,label['id']])\n",
    "    connection.commit()\n",
    "    \n",
    "    cursor.close()\n",
    "    connection.close()"
   ]
  },
  {
   "cell_type": "code",
   "execution_count": 8,
   "metadata": {
    "ExecuteTime": {
     "end_time": "2021-09-06T12:44:08.878992Z",
     "start_time": "2021-09-06T12:44:08.832373Z"
    }
   },
   "outputs": [],
   "source": [
    "def storePR(repo_name, pr):\n",
    "    connection = connectDB()\n",
    "    cursor = connection.cursor()\n",
    "    \n",
    "    query = \"\"\"INSERT INTO public.pullrequests(\n",
    "    id, author_association, closed_at, comments_url, commits_url, created_at, merge_commit_sha, merged_at, pr_number, \n",
    "    review_comment_url, review_comments_url, state, statuses_url, title, updated_at, project_name, id_user, mined)\n",
    "    VALUES (%s,%s,%s,%s,%s,%s,%s,%s,%s,%s,%s,%s,%s,%s,%s,%s,%s,%s)\"\"\"\n",
    "    \n",
    "    cursor.execute(query, [pr['id'],pr['author_association'],pr['closed_at'],pr['comments_url'],pr['commits_url'],\n",
    "                           pr['created_at'],pr['merge_commit_sha'],pr['merged_at'],pr['number'],pr['review_comments_url'],\n",
    "                           pr['review_comments_url'],pr['state'],pr['statuses_url'],pr['title'],pr['updated_at'],\n",
    "                           repo_name,pr['user']['id'],False])\n",
    "    connection.commit()\n",
    "    \n",
    "    cursor.close()\n",
    "    connection.close()"
   ]
  },
  {
   "cell_type": "code",
   "execution_count": 3,
   "metadata": {
    "ExecuteTime": {
     "end_time": "2022-01-21T19:33:38.786834Z",
     "start_time": "2022-01-21T19:33:38.775967Z"
    }
   },
   "outputs": [],
   "source": [
    "def updateRepo(repo_name, creation):\n",
    "    connection = connectDB()\n",
    "    cursor = connection.cursor()\n",
    "    \n",
    "    query = \"\"\"UPDATE projects\n",
    "        set created = %s\n",
    "        WHERE REPO_NAME = %s;\"\"\"\n",
    "    \n",
    "    cursor.execute(query, [creation,repo_name])\n",
    "    connection.commit()\n",
    "    \n",
    "    cursor.close()\n",
    "    connection.close()"
   ]
  },
  {
   "cell_type": "code",
   "execution_count": 2,
   "metadata": {
    "ExecuteTime": {
     "end_time": "2022-01-21T19:33:32.067582Z",
     "start_time": "2022-01-21T19:33:32.040579Z"
    }
   },
   "outputs": [],
   "source": [
    "tokens =['token 80665cc2fa2fcf9f6368ac32014eda5bf5083bd3', 'token 1f3a6e7d066f937c163900db140e4506a2f3dd87', 'token 1f5163feb5b40cf70542f3a4360b957d9d6a668a']\n",
    "i_token =0\n",
    "\n",
    "\n",
    "def requestAPI(URL):\n",
    "    # api-endpoint \n",
    "    global i_token\n",
    "    \n",
    "    if (len(tokens)-1) > i_token:\n",
    "        i_token += 1\n",
    "    else:\n",
    "        i_token = 0\n",
    "        \n",
    "    r = requests.get(url = URL, headers={'Authorization': tokens[i_token],'Accept':'application/vnd.github.cloak-preview'}).json()\n",
    "    if len(r) > 0:\n",
    "        try:\n",
    "            #print('keys: {}'.format(r.keys()))\n",
    "            \n",
    "            if isinstance(r, dict) and 'message' in r.keys():\n",
    "                print('{} -- {}'.format(datetime.now().strftime(\"%H:%M:%S\"),r['message']))\n",
    "                if 'API rate limit exceeded' in r['message']:\n",
    "                    time.sleep(600)\n",
    "                    requestAPI(URL)\n",
    "                else:\n",
    "                    return None\n",
    "\n",
    "            return r\n",
    "        except Exception as e:\n",
    "            print('\\n Erro no request get: {}'.format(e))\n",
    "            print(r)\n",
    "    else:\n",
    "        return None"
   ]
  },
  {
   "cell_type": "code",
   "execution_count": 1,
   "metadata": {
    "ExecuteTime": {
     "end_time": "2022-01-21T19:33:29.107487Z",
     "start_time": "2022-01-21T19:33:29.097352Z"
    }
   },
   "outputs": [],
   "source": [
    "def getProjects():\n",
    "    #query = \"\"\"select repo_name from projects\n",
    "    #        where qtd_stars >= 100 and forked is false and size  > 10000\n",
    "    #        and (ci_service is null or (ci_service like 'Travis CI' and analysis_point is not null))\n",
    "    #        and prs_mined is false\n",
    "    #        ORDER BY repo_name \"\"\"\n",
    "    \n",
    "    query = \"\"\"select repo_name from projects WHERE repo_name like 'SimpleMobileTools/Simple-Gallery' ORDER BY repo_name\"\"\"\n",
    "    \n",
    "    connection = connectDB()\n",
    "    cursor = connection.cursor()\n",
    "    cursor.execute(query)\n",
    "    result = cursor.fetchall()\n",
    "    connection.close()\n",
    "    return result"
   ]
  },
  {
   "cell_type": "code",
   "execution_count": 11,
   "metadata": {
    "ExecuteTime": {
     "end_time": "2021-09-06T12:44:08.983949Z",
     "start_time": "2021-09-06T12:44:08.962838Z"
    }
   },
   "outputs": [],
   "source": [
    "def setProjectPRMined(repo_name):\n",
    "    query = \"\"\"UPDATE  projects \n",
    "        set prs_mined = True\n",
    "        WHERE repo_name like %s\"\"\"\n",
    "\n",
    "    connection = connectDB()\n",
    "    cursor = connection.cursor()\n",
    "    cursor.execute(query, [repo_name])\n",
    "    connection.commit()\n",
    "    cursor.close()\n",
    "    connection.close()"
   ]
  },
  {
   "cell_type": "code",
   "execution_count": 12,
   "metadata": {
    "ExecuteTime": {
     "end_time": "2021-09-06T12:44:09.008935Z",
     "start_time": "2021-09-06T12:44:08.986409Z"
    }
   },
   "outputs": [],
   "source": [
    "def setProjectIssueMined(repo_name):\n",
    "    query = \"\"\"UPDATE  projects \n",
    "        set issues_mined = True\n",
    "        WHERE repo_name like %s\"\"\"\n",
    "\n",
    "    connection = connectDB()\n",
    "    cursor = connection.cursor()\n",
    "    cursor.execute(query, [repo_name])\n",
    "    connection.commit()\n",
    "    cursor.close()\n",
    "    connection.close()"
   ]
  },
  {
   "cell_type": "code",
   "execution_count": null,
   "metadata": {},
   "outputs": [],
   "source": []
  }
 ],
 "metadata": {
  "kernelspec": {
   "display_name": "Python 3",
   "language": "python",
   "name": "python3"
  },
  "language_info": {
   "codemirror_mode": {
    "name": "ipython",
    "version": 3
   },
   "file_extension": ".py",
   "mimetype": "text/x-python",
   "name": "python",
   "nbconvert_exporter": "python",
   "pygments_lexer": "ipython3",
   "version": "3.8.3"
  }
 },
 "nbformat": 4,
 "nbformat_minor": 4
}
