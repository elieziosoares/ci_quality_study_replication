{
 "cells": [
  {
   "cell_type": "markdown",
   "metadata": {},
   "source": []
  },
  {
   "cell_type": "markdown",
   "metadata": {},
   "source": [
    "### Identify projects with activity in every months for analysis period\n",
    "\n",
    "Filter projects with activity for at least 12 consecutive months:\n",
    "* 1 closed pull request\n",
    "* SET prs_selected = TRUE\n",
    "\n"
   ]
  },
  {
   "cell_type": "code",
   "execution_count": 27,
   "metadata": {
    "ExecuteTime": {
     "end_time": "2021-10-20T18:02:23.183238Z",
     "start_time": "2021-10-20T17:46:54.610652Z"
    },
    "scrolled": true
   },
   "outputs": [
    {
     "name": "stdout",
     "output_type": "stream",
     "text": [
      "Months: 20  -  PRs: 129  -  Project: agershun/alasql - Init: 2020-01-02 03:07:50-03:00\n",
      "Months: 34  -  PRs: 2453  -  Project: algolia/react-instantsearch - Init: 2017-04-04 09:35:07-03:00\n",
      "Months: 21  -  PRs: 81  -  Project: andOTP/andOTP - Init: 2017-08-07 10:33:15-03:00\n",
      "Months: 19  -  PRs: 306  -  Project: antvis/L7 - Init: 2019-08-13 06:49:11-03:00\n",
      "Months: 19  -  PRs: 223  -  Project: apache/incubator-retired-gearpump - Init: 2016-04-27 22:03:55-03:00\n",
      "Months: 19  -  PRs: 168  -  Project: apache/rocketmq-externals - Init: 2018-06-06 00:36:57-03:00\n",
      "Months: 21  -  PRs: 88  -  Project: athityakumar/colorls - Init: 2019-12-12 05:57:48-03:00\n",
      "Months: 19  -  PRs: 201  -  Project: audacity/audacity - Init: 2019-03-14 08:57:53-03:00\n",
      "Months: 26  -  PRs: 125  -  Project: AutoSpotting/AutoSpotting - Init: 2017-07-03 18:33:50-03:00\n",
      "Months: 17  -  PRs: 128  -  Project: bakape/meguca - Init: 2017-12-10 18:49:12-03:00\n",
      "Months: 22  -  PRs: 216  -  Project: binast/binjs-ref - Init: 2018-01-17 12:32:42-03:00\n",
      "Months: 69  -  PRs: 2603  -  Project: catarse/catarse - Init: 2012-12-04 17:34:31-03:00\n",
      "Months: 63  -  PRs: 2257  -  Project: convox/rack - Init: 2015-09-14 16:20:40-03:00\n",
      "Months: 38  -  PRs: 154  -  Project: cytoscape/cytoscape.js - Init: 2018-07-10 05:09:04-03:00\n",
      "Months: 13  -  PRs: 75  -  Project: defuse/php-encryption - Init: 2015-05-11 17:54:49-03:00\n",
      "Months: 15  -  PRs: 174  -  Project: deployd/deployd - Init: 2014-10-23 14:44:21-03:00\n",
      "Months: 19  -  PRs: 337  -  Project: DIYgod/DPlayer - Init: 2019-06-06 05:34:27-03:00\n",
      "Months: 33  -  PRs: 186  -  Project: Dynamoid/dynamoid - Init: 2017-06-07 14:25:00-03:00\n",
      "Months: 29  -  PRs: 609  -  Project: ello/ello-ios - Init: 2016-06-03 11:24:43-03:00\n",
      "Months: 18  -  PRs: 81  -  Project: ellson/MOTHBALLED-graphviz - Init: 2016-05-19 12:52:24-03:00\n",
      "Months: 18  -  PRs: 152  -  Project: exyte/Macaw - Init: 2018-03-19 07:26:33-03:00\n",
      "Months: 15  -  PRs: 55  -  Project: fschutt/azul - Init: 2018-07-04 15:55:18-03:00\n",
      "Months: 19  -  PRs: 66  -  Project: gantry/gantry5 - Init: 2015-12-07 16:17:58-03:00\n",
      "Months: 56  -  PRs: 534  -  Project: gluon-lang/gluon - Init: 2016-06-29 16:49:09-03:00\n",
      "Months: 25  -  PRs: 780  -  Project: golang/dep - Init: 2016-10-06 22:47:11-03:00\n",
      "Months: 30  -  PRs: 231  -  Project: gpac/gpac - Init: 2015-03-10 06:07:59-03:00\n",
      "Months: 13  -  PRs: 107  -  Project: graphiti-api/graphiti - Init: 2019-01-06 16:34:11-03:00\n",
      "Months: 51  -  PRs: 382  -  Project: gtk-rs/gtk - Init: 2016-08-24 06:04:57-03:00\n",
      "Months: 15  -  PRs: 172  -  Project: HearthSim/HSTracker - Init: 2016-04-07 02:43:36-03:00\n",
      "Months: 14  -  PRs: 73  -  Project: htmlburger/carbon-fields - Init: 2016-02-16 17:28:28-03:00\n",
      "Months: 13  -  PRs: 53  -  Project: Intel-bigdata/spark-adaptive - Init: 2017-09-17 14:06:22-03:00\n",
      "Months: 21  -  PRs: 209  -  Project: JohnCoates/Aerial - Init: 2018-09-20 12:16:51-03:00\n",
      "Months: 12  -  PRs: 53  -  Project: jOOQ/jOOQ - Init: 2017-10-17 07:54:22-03:00\n",
      "Months: 16  -  PRs: 72  -  Project: jquense/react-widgets - Init: 2016-01-13 17:24:39-03:00\n",
      "Months: 15  -  PRs: 51  -  Project: Kintaro/wtftw - Init: 2019-08-26 19:12:07-03:00\n",
      "Months: 42  -  PRs: 10573  -  Project: koding/koding - Init: 2014-06-30 04:39:14-03:00\n",
      "Months: 32  -  PRs: 141  -  Project: kubernetes/client-go - Init: 2016-10-07 19:29:06-03:00\n",
      "Months: 39  -  PRs: 367  -  Project: kubernetes-client/python - Init: 2018-06-22 08:13:11-03:00\n",
      "Months: 17  -  PRs: 143  -  Project: ladybirdweb/faveo-helpdesk - Init: 2016-02-04 04:04:43-03:00\n",
      "Months: 18  -  PRs: 235  -  Project: libtom/libtomcrypt - Init: 2017-02-05 07:19:41-03:00\n",
      "Months: 19  -  PRs: 79  -  Project: lisa-lab/DeepLearningTutorials - Init: 2014-10-02 18:13:30-03:00\n",
      "Months: 18  -  PRs: 200  -  Project: locationtech/rasterframes - Init: 2018-12-04 12:49:37-03:00\n",
      "Months: 32  -  PRs: 219  -  Project: LoopKit/Loop - Init: 2019-01-07 12:19:30-03:00\n",
      "Months: 15  -  PRs: 179  -  Project: lwouis/alt-tab-macos - Init: 2020-03-10 02:00:38-03:00\n",
      "Months: 13  -  PRs: 73  -  Project: mementum/backtrader - Init: 2016-10-15 04:48:05-03:00\n",
      "Months: 25  -  PRs: 111  -  Project: mgba-emu/mgba - Init: 2016-06-03 13:21:59-03:00\n",
      "Months: 39  -  PRs: 1164  -  Project: minishift/minishift - Init: 2016-07-08 09:22:06-03:00\n",
      "Months: 25  -  PRs: 1135  -  Project: mozilla-mobile/firefox-tv - Init: 2017-12-13 14:24:59-03:00\n",
      "Months: 18  -  PRs: 122  -  Project: NathanWalker/angular-seed-advanced - Init: 2016-03-14 17:32:45-03:00\n",
      "Months: 19  -  PRs: 89  -  Project: Netflix/SimianArmy - Init: 2012-12-03 22:40:31-03:00\n",
      "Months: 28  -  PRs: 1376  -  Project: onivim/oni - Init: 2016-12-03 13:18:52-03:00\n",
      "Months: 14  -  PRs: 75  -  Project: pagekit/pagekit - Init: 2015-07-24 16:22:59-03:00\n",
      "Months: 18  -  PRs: 128  -  Project: pdfminer/pdfminer.six - Init: 2019-06-11 20:55:17-03:00\n",
      "Months: 39  -  PRs: 555  -  Project: phpseclib/phpseclib - Init: 2013-10-13 16:47:54-03:00\n",
      "Months: 21  -  PRs: 326  -  Project: Plume-org/Plume - Init: 2018-05-10 17:57:43-03:00\n",
      "Months: 37  -  PRs: 680  -  Project: psi-probe/psi-probe - Init: 2018-09-05 20:53:10-03:00\n",
      "Months: 67  -  PRs: 382  -  Project: quilljs/quill - Init: 2014-03-11 04:24:54-03:00\n",
      "Months: 17  -  PRs: 122  -  Project: ramboxapp/community-edition - Init: 2017-12-11 21:21:43-03:00\n",
      "Months: 49  -  PRs: 256  -  Project: rapid7/metasploit-payloads - Init: 2015-06-30 23:19:02-03:00\n",
      "Months: 35  -  PRs: 513  -  Project: Reactive-Extensions/RxJS - Init: 2013-08-02 18:26:02-03:00\n",
      "Months: 35  -  PRs: 608  -  Project: react-static/react-static - Init: 2017-10-05 23:06:39-03:00\n",
      "Months: 30  -  PRs: 210  -  Project: sahat/hackathon-starter - Init: 2014-08-12 18:19:56-03:00\n",
      "Months: 36  -  PRs: 852  -  Project: scanamo/scanamo - Init: 2018-09-03 15:19:51-03:00\n",
      "Months: 25  -  PRs: 390  -  Project: spatie/blender - Init: 2016-03-15 09:22:14-03:00\n",
      "Months: 17  -  PRs: 75  -  Project: sshwsfc/xadmin - Init: 2013-03-31 22:24:09-03:00\n",
      "Months: 20  -  PRs: 736  -  Project: Stratio/crossdata - Init: 2015-08-04 10:05:38-03:00\n",
      "Months: 68  -  PRs: 924  -  Project: stripe/stripe-ios - Init: 2015-04-02 18:54:22-03:00\n",
      "Months: 85  -  PRs: 972  -  Project: summernote/summernote - Init: 2013-07-15 05:23:37-03:00\n",
      "Months: 13  -  PRs: 43  -  Project: sunjay/turtle - Init: 2017-11-30 12:16:59-03:00\n",
      "Months: 19  -  PRs: 89  -  Project: Swordfish90/Lemuroid - Init: 2019-12-13 18:27:04-03:00\n",
      "Months: 16  -  PRs: 278  -  Project: Tencent/omi - Init: 2018-09-15 07:03:35-03:00\n",
      "Months: 17  -  PRs: 182  -  Project: tensorforce/tensorforce - Init: 2017-07-12 09:30:27-03:00\n",
      "Months: 20  -  PRs: 115  -  Project: ThemeFuse/Unyson - Init: 2016-10-20 06:05:09-03:00\n",
      "Months: 15  -  PRs: 79  -  Project: TimelyDataflow/differential-dataflow - Init: 2019-02-04 09:56:51-03:00\n",
      "Months: 18  -  PRs: 330  -  Project: tomastrajan/angular-ngrx-material-starter - Init: 2017-10-08 05:38:56-03:00\n",
      "Months: 37  -  PRs: 1558  -  Project: torproject/tor - Init: 2018-02-27 17:22:03-03:00\n",
      "Months: 62  -  PRs: 807  -  Project: tsuru/tsuru - Init: 2016-07-01 23:41:28-03:00\n",
      "Months: 23  -  PRs: 86  -  Project: tzutalin/labelImg - Init: 2016-10-23 22:18:42-03:00\n",
      "Months: 65  -  PRs: 640  -  Project: Unitech/pm2 - Init: 2013-06-18 23:53:43-03:00\n",
      "Months: 24  -  PRs: 257  -  Project: watson-developer-cloud/swift-sdk - Init: 2017-12-20 14:14:12-03:00\n",
      "Months: 14  -  PRs: 45  -  Project: weppos/whois - Init: 2020-03-02 02:12:42-03:00\n",
      "Months: 50  -  PRs: 271  -  Project: WPO-Foundation/webpagetest - Init: 2013-07-01 11:59:16-03:00\n",
      "Months: 19  -  PRs: 153  -  Project: writefreely/writefreely - Init: 2018-11-14 12:24:28-03:00\n",
      "Months: 39  -  PRs: 555  -  Project: yabwe/medium-editor - Init: 2013-09-20 10:32:34-03:00\n",
      "Months: 30  -  PRs: 349  -  Project: zyedidia/micro - Init: 2016-04-18 08:30:05-03:00\n"
     ]
    }
   ],
   "source": [
    "repos = getProjects()\n",
    "\n",
    "for repo in repos:    \n",
    "    project = repo[0]\n",
    "    analysisPoint = repo[1]\n",
    "    ci_service = repo[2]\n",
    "    \n",
    "    \n",
    "    if ci_service is not None:\n",
    "        '''\n",
    "        previous_period = classifyProjectPR(project,analysisPoint,-1,-12)\n",
    "        following_period = classifyProjectPR(project,analysisPoint,1,12)\n",
    "\n",
    "        if previous_period is not None and following_period is not None:\n",
    "            prs_period = countPRsPeriod(project,previous_period,following_period)\n",
    "            setRQ2Classification(project,True,24,prs_period,previous_period,following_period)\n",
    "            setRQ2Classification(project)\n",
    "            print('PRs: {}  -  Project: {} - Init: {} - Finish: {}'.format(prs_period,project,previous_period,following_period))\n",
    "        '''\n",
    "        created = analysisPoint\n",
    "    else:\n",
    "        created = getFirstPRDate(project)\n",
    "    \n",
    "    end_period = getLastPRDate(project)\n",
    "    if created is None or end_period is None:\n",
    "        print('Project: {}  -  created is None or end_period is None'.format(project))\n",
    "        continue\n",
    "    \n",
    "    identifyPRActivity(project,created,end_period)"
   ]
  },
  {
   "cell_type": "code",
   "execution_count": 94,
   "metadata": {
    "ExecuteTime": {
     "end_time": "2021-09-01T03:55:54.348870Z",
     "start_time": "2021-09-01T03:55:54.215314Z"
    }
   },
   "outputs": [
    {
     "data": {
      "text/plain": [
       "datetime.datetime(2014, 7, 31, 9, 54, 1, tzinfo=psycopg2.tz.FixedOffsetTimezone(offset=-180, name=None))"
      ]
     },
     "execution_count": 94,
     "metadata": {},
     "output_type": "execute_result"
    }
   ],
   "source": [
    "#getFirstPRDate('81813780/AVLoadingIndicatorView')\n",
    "getLastPRDate('0xced/XCDYouTubeKit')\n",
    "#getFirstPRDate('angular/angular.js')\n",
    "selectFirstPRMonth(project,analysisPoint)"
   ]
  },
  {
   "cell_type": "code",
   "execution_count": 18,
   "metadata": {
    "ExecuteTime": {
     "end_time": "2021-10-20T15:45:38.407616Z",
     "start_time": "2021-10-20T15:45:38.388709Z"
    }
   },
   "outputs": [],
   "source": [
    "def identifyPRActivity(project,init,finish):\n",
    "    min_months = 12\n",
    "    \n",
    "    search_date = analysis_init_date = init\n",
    "    analysis_finish_date = analysis_finish_tmp = None\n",
    "    increment=0\n",
    "    period_max = period = prs_max = total_prs = 0\n",
    "    \n",
    "    while search_date <= finish:\n",
    "        \n",
    "        prs = selectPRs(project,search_date.month,search_date.year)\n",
    "        if prs[0]>0:\n",
    "            period += 1\n",
    "            total_prs += prs[0]\n",
    "            \n",
    "            #inicio de uma nova contagem, armazene o mês inicial\n",
    "            if period == 1:\n",
    "                #data da primeira PR do mês inicial\n",
    "                #analysis_init_tmp = selectFirstPRMonth(project,search_date.month,search_date.year)\n",
    "                analysis_init_tmp = selectFirstPRMonth(project,search_date)\n",
    "            if period == min_months:\n",
    "                analysis_finish_tmp = selectLastPRMonth(project,search_date.month,search_date.year)\n",
    "        else:    \n",
    "            if period > period_max:\n",
    "                period_max = period\n",
    "                prs_max = total_prs                \n",
    "                #data da primeira PR do mês inicial\n",
    "                analysis_init_date = analysis_init_tmp \n",
    "                analysis_finish_date = analysis_finish_tmp\n",
    "                \n",
    "            period = total_prs = 0\n",
    "             \n",
    "        increment +=1   \n",
    "        search_date = init + relativedelta(months=increment)        \n",
    "        if search_date.month == finish.month and search_date.year == finish.year:\n",
    "            search_date = finish\n",
    "    \n",
    "    #If finish the data and did not change the values, get the current period and total_prs\n",
    "    if period > period_max:\n",
    "        period_max = period\n",
    "        prs_max = total_prs\n",
    "        #data da primeira PR do mês inicial\n",
    "        analysis_init_date = analysis_init_tmp \n",
    "        analysis_finish_date = selectLastPRMonth(project,search_date.month,search_date.year)\n",
    "    \n",
    "    \n",
    "    if period_max >= min_months:\n",
    "        print('Months: {}  -  PRs: {}  -  Project: {} - Init: {}'.format(period_max,prs_max,project,analysis_init_date))\n",
    "        setPrsClassification(project,True,period_max,prs_max,analysis_init_date,analysis_finish_date)\n",
    "    else:\n",
    "        print('------------------------------\\nMonths: {}  -  PRs: {}  -  Project: {} - Init: {}'.format(period_max,prs_max,project,analysis_init_date))\n",
    "        setPrsClassification(project,False,period_max,prs_max,analysis_init_date,analysis_finish_date)"
   ]
  },
  {
   "cell_type": "code",
   "execution_count": 87,
   "metadata": {
    "ExecuteTime": {
     "end_time": "2021-09-01T03:53:38.004132Z",
     "start_time": "2021-09-01T03:53:37.986306Z"
    }
   },
   "outputs": [],
   "source": [
    "def classifyProjectPR(project,analysisPoint, increment=1, limit=12):\n",
    "    included = True\n",
    "        \n",
    "    months = totalprs = totalissues = 0\n",
    "    #Check previous months\n",
    "    while included:\n",
    "        \n",
    "        search_date = analysisPoint + relativedelta(months=increment)\n",
    "        \n",
    "        prs = selectPRs(project,search_date.month,search_date.year)\n",
    "        #print('Month: {}  -  Year: {}  -  PRs: {}  -  Project: {}'.format(search_date.month,search_date.year,prs[0],project))\n",
    "        \n",
    "        if prs is None or prs[0]==0:            \n",
    "            return None\n",
    "        else:\n",
    "            months += 1\n",
    "            \n",
    "        '''\n",
    "        issues = selectIssues(project,search_date.month,search_date.year)\n",
    "        print('Month: {}  -  Year: {}  -  Issues: {}  -  Project: {}'.format(search_date.month,search_date.year,issues[0],project))\n",
    "        if issues is None or issues[0]==0:\n",
    "            included = False\n",
    "            break\n",
    "        '''\n",
    "        if increment > 0:\n",
    "            increment+=1\n",
    "            if increment > limit:                \n",
    "                return selectLastPRMonth(project,search_date.month,search_date.year)\n",
    "        else:\n",
    "            increment-=1\n",
    "            if increment < limit:\n",
    "                #return selectFirstPRMonth(project,search_date.month,search_date.year)\n",
    "                return selectFirstPRMonth(project,search_date)"
   ]
  },
  {
   "cell_type": "code",
   "execution_count": 7,
   "metadata": {
    "ExecuteTime": {
     "end_time": "2021-10-20T14:18:07.284772Z",
     "start_time": "2021-10-20T14:18:07.273469Z"
    }
   },
   "outputs": [],
   "source": [
    "def selectPRs(project,month,year):\n",
    "    connection = connectDB()\n",
    "    cursor = connection.cursor()\n",
    "    \n",
    "    query = \"\"\"SELECT COUNT(ID) from pullrequests where  \n",
    "        date_part('month', closed_at) = %s\n",
    "        AND date_part('year', closed_at) = %s \n",
    "        AND project_name like %s\"\"\"\n",
    "\n",
    "    cursor.execute(query, [month,year,project])\n",
    "    row = cursor.fetchone()\n",
    "    \n",
    "    cursor.close()\n",
    "    connection.close()\n",
    "    return row"
   ]
  },
  {
   "cell_type": "code",
   "execution_count": 15,
   "metadata": {
    "ExecuteTime": {
     "end_time": "2021-10-20T14:49:42.848539Z",
     "start_time": "2021-10-20T14:49:42.828315Z"
    }
   },
   "outputs": [],
   "source": [
    "def selectFirstPRMonth(project,date):\n",
    "    connection = connectDB()\n",
    "    cursor = connection.cursor()\n",
    "    \n",
    "    query = \"\"\"SELECT closed_at from pullrequests where  \n",
    "        date_part('month', closed_at) = %s\n",
    "        AND date_part('year', closed_at) = %s \n",
    "        AND project_name like %s\n",
    "        order by closed_at limit 1;\"\"\"\n",
    "    \n",
    "    #cursor.execute(query, [date.month,date.year,project])\n",
    "    \n",
    "    #query = \"\"\"SELECT closed_at from pullrequests where  \n",
    "    #    closed_at >= %s\n",
    "    #    AND project_name like %s\n",
    "    #    order by closed_at limit 1;\"\"\"\n",
    "\n",
    "    cursor.execute(query, [date.month,date.year,project])\n",
    "    row = cursor.fetchone()\n",
    "    \n",
    "    cursor.close()\n",
    "    connection.close()\n",
    "    if row is not None:\n",
    "        return row[0]\n",
    "    else:\n",
    "        return None"
   ]
  },
  {
   "cell_type": "code",
   "execution_count": 9,
   "metadata": {
    "ExecuteTime": {
     "end_time": "2021-10-20T14:18:08.983971Z",
     "start_time": "2021-10-20T14:18:08.971297Z"
    }
   },
   "outputs": [],
   "source": [
    "def selectLastPRMonth(project,month,year):\n",
    "    connection = connectDB()\n",
    "    cursor = connection.cursor()\n",
    "    \n",
    "    query = \"\"\"SELECT closed_at from pullrequests where  \n",
    "        date_part('month', closed_at) = %s\n",
    "        AND date_part('year', closed_at) = %s \n",
    "        AND project_name like %s\n",
    "        order by closed_at desc limit 1;\"\"\"\n",
    "\n",
    "    cursor.execute(query, [month,year,project])\n",
    "    row = cursor.fetchone()\n",
    "    \n",
    "    cursor.close()\n",
    "    connection.close()\n",
    "    if row is not None:\n",
    "        return row[0]\n",
    "    else:\n",
    "        return None"
   ]
  },
  {
   "cell_type": "code",
   "execution_count": 10,
   "metadata": {
    "ExecuteTime": {
     "end_time": "2021-10-20T14:18:10.327025Z",
     "start_time": "2021-10-20T14:18:10.313434Z"
    }
   },
   "outputs": [],
   "source": [
    "def countPRsPeriod(project,init,finish):\n",
    "    connection = connectDB()\n",
    "    cursor = connection.cursor()\n",
    "    \n",
    "    query = \"\"\"SELECT count(id) from pullrequests  \n",
    "        WHERE closed_at IS NOT NULL \n",
    "        AND closed_at >= %s AND closed_at <= %s \n",
    "        AND project_name like %s\"\"\"\n",
    "\n",
    "    cursor.execute(query, [init,finish,project])\n",
    "    row = cursor.fetchone()\n",
    "    \n",
    "    cursor.close()\n",
    "    connection.close()\n",
    "    if row is not None:\n",
    "        return row[0]\n",
    "    else:\n",
    "        return None"
   ]
  },
  {
   "cell_type": "code",
   "execution_count": 11,
   "metadata": {
    "ExecuteTime": {
     "end_time": "2021-10-20T14:18:11.748098Z",
     "start_time": "2021-10-20T14:18:11.736304Z"
    }
   },
   "outputs": [],
   "source": [
    "def getFirstPRDate(project):\n",
    "    connection = connectDB()\n",
    "    cursor = connection.cursor()\n",
    "    \n",
    "    query = \"\"\"SELECT closed_at from pullrequests where  \n",
    "        project_name like %s\n",
    "        order by closed_at limit 1;\"\"\"\n",
    "\n",
    "    cursor.execute(query, [project])\n",
    "    row = cursor.fetchone()\n",
    "    \n",
    "    cursor.close()\n",
    "    connection.close()\n",
    "    if row is not None:\n",
    "        return row[0]\n",
    "    else:\n",
    "        return None"
   ]
  },
  {
   "cell_type": "code",
   "execution_count": 12,
   "metadata": {
    "ExecuteTime": {
     "end_time": "2021-10-20T14:18:12.821141Z",
     "start_time": "2021-10-20T14:18:12.808187Z"
    }
   },
   "outputs": [],
   "source": [
    "def getLastPRDate(project):\n",
    "    connection = connectDB()\n",
    "    cursor = connection.cursor()\n",
    "    \n",
    "    query = \"\"\"SELECT closed_at from pullrequests where  \n",
    "        project_name like %s AND closed_at is not NULL\n",
    "        order by closed_at desc limit 1;\"\"\"\n",
    "\n",
    "    cursor.execute(query, [project])\n",
    "    row = cursor.fetchone()\n",
    "    \n",
    "    cursor.close()\n",
    "    connection.close()\n",
    "    if row is not None:\n",
    "        return row[0]\n",
    "    else:\n",
    "        return None"
   ]
  },
  {
   "cell_type": "code",
   "execution_count": 13,
   "metadata": {
    "ExecuteTime": {
     "end_time": "2021-10-20T14:18:13.131614Z",
     "start_time": "2021-10-20T14:18:13.127273Z"
    }
   },
   "outputs": [],
   "source": [
    "def selectIssues(project,month,year):\n",
    "    connection = connectDB()\n",
    "    cursor = connection.cursor()\n",
    "    \n",
    "    query = \"\"\"select COUNT(ID) from issue where  \n",
    "        date_part('month', closed_at) = %s\n",
    "        AND date_part('year', closed_at) = %s \n",
    "        AND repo_name like %s\"\"\"\n",
    "\n",
    "    cursor.execute(query, [month,year,project])\n",
    "    row = cursor.fetchone()\n",
    "    \n",
    "    cursor.close()\n",
    "    connection.close()\n",
    "    return row"
   ]
  },
  {
   "cell_type": "code",
   "execution_count": 14,
   "metadata": {
    "ExecuteTime": {
     "end_time": "2021-09-02T16:14:32.848754Z",
     "start_time": "2021-09-02T16:14:32.709218Z"
    }
   },
   "outputs": [
    {
     "data": {
      "text/plain": [
       "0"
      ]
     },
     "execution_count": 14,
     "metadata": {},
     "output_type": "execute_result"
    }
   ],
   "source": [
    "r= selectIssues('alvarotrigo/fullPage.js',10,2013)\n",
    "r[0]"
   ]
  },
  {
   "cell_type": "markdown",
   "metadata": {},
   "source": [
    "### Aux Functions"
   ]
  },
  {
   "cell_type": "code",
   "execution_count": 3,
   "metadata": {
    "ExecuteTime": {
     "end_time": "2021-10-20T14:17:42.057264Z",
     "start_time": "2021-10-20T14:17:40.935639Z"
    }
   },
   "outputs": [
    {
     "data": {
      "text/plain": [
       "{'divide': 'ignore', 'over': 'warn', 'under': 'ignore', 'invalid': 'ignore'}"
      ]
     },
     "execution_count": 3,
     "metadata": {},
     "output_type": "execute_result"
    }
   ],
   "source": [
    "import psycopg2\n",
    "import os\n",
    "import requests \n",
    "import time\n",
    "import pytz    \n",
    "from datetime import datetime, timedelta\n",
    "from dateutil.relativedelta import relativedelta\n",
    "import pandas as pd\n",
    "from scipy import stats\n",
    "import numpy as np\n",
    "np.seterr(divide='ignore', invalid='ignore')"
   ]
  },
  {
   "cell_type": "code",
   "execution_count": 4,
   "metadata": {
    "ExecuteTime": {
     "end_time": "2021-10-20T14:17:42.062506Z",
     "start_time": "2021-10-20T14:17:42.058893Z"
    }
   },
   "outputs": [],
   "source": [
    "def connectDB():\n",
    "    f = open('/home/psql_pwd.txt', \"r\")\n",
    "    pwd = f.readline().replace('\\n','')\n",
    "    \n",
    "    return psycopg2.connect(user = \"ci_quality\",\n",
    "                              password = pwd,\n",
    "                              host = \"127.0.0.1\",\n",
    "                              port = \"5432\",\n",
    "                              database = \"Causal_CI_Quality_v4\")"
   ]
  },
  {
   "cell_type": "code",
   "execution_count": 22,
   "metadata": {
    "ExecuteTime": {
     "end_time": "2021-10-20T17:34:59.038970Z",
     "start_time": "2021-10-20T17:34:59.031662Z"
    }
   },
   "outputs": [],
   "source": [
    "def getProjects():\n",
    "    query = \"\"\"SELECT repo_name, analysis_point,ci_service From PROJECTS where prs_mined is true and issues_mined is true and prs_selected is false ORDER BY repo_name\"\"\"\n",
    "\n",
    "    connection = connectDB()\n",
    "    cursor = connection.cursor()\n",
    "    cursor.execute(query)\n",
    "    result = cursor.fetchall()\n",
    "    connection.close()\n",
    "    return result"
   ]
  },
  {
   "cell_type": "code",
   "execution_count": 20,
   "metadata": {
    "ExecuteTime": {
     "end_time": "2021-10-20T15:49:18.902118Z",
     "start_time": "2021-10-20T15:49:18.884522Z"
    }
   },
   "outputs": [],
   "source": [
    "def setPrsClassification(repo_name,classification,period_max,total_prs,analysis_init_date,analysis_finish_date):\n",
    "    query = \"\"\"UPDATE  projects \n",
    "        set prs_selected = %s,\n",
    "        qtd_pull_requests_months = %s,\n",
    "        qtd_pull_request_in_period = %s,\n",
    "        analysis_init = %s,\n",
    "        analysis_finish = %s\n",
    "        WHERE repo_name like %s\"\"\"\n",
    "\n",
    "    connection = connectDB()\n",
    "    cursor = connection.cursor()\n",
    "    cursor.execute(query, [classification,period_max,total_prs,analysis_init_date,analysis_finish_date,repo_name])\n",
    "    connection.commit()\n",
    "    cursor.close()\n",
    "    connection.close()"
   ]
  },
  {
   "cell_type": "code",
   "execution_count": null,
   "metadata": {},
   "outputs": [],
   "source": []
  }
 ],
 "metadata": {
  "kernelspec": {
   "display_name": "Python 3 (ipykernel)",
   "language": "python",
   "name": "python3"
  },
  "language_info": {
   "codemirror_mode": {
    "name": "ipython",
    "version": 3
   },
   "file_extension": ".py",
   "mimetype": "text/x-python",
   "name": "python",
   "nbconvert_exporter": "python",
   "pygments_lexer": "ipython3",
   "version": "3.8.15"
  }
 },
 "nbformat": 4,
 "nbformat_minor": 4
}
